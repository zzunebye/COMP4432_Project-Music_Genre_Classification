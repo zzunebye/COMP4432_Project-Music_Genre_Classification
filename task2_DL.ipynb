{
 "metadata": {
  "language_info": {
   "codemirror_mode": {
    "name": "ipython",
    "version": 3
   },
   "file_extension": ".py",
   "mimetype": "text/x-python",
   "name": "python",
   "nbconvert_exporter": "python",
   "pygments_lexer": "ipython3",
   "version": "3.8.5-final"
  },
  "orig_nbformat": 2,
  "kernelspec": {
   "name": "python3",
   "display_name": "Python 3.8.5 64-bit ('base': conda)",
   "metadata": {
    "interpreter": {
     "hash": "f4a0a907784aa8893015c385920cf9f22419f81c1dd56ebcd5d9611069052e83"
    }
   }
  }
 },
 "nbformat": 4,
 "nbformat_minor": 2,
 "cells": [
  {
   "cell_type": "code",
   "execution_count": 60,
   "metadata": {},
   "outputs": [],
   "source": [
    "import torch\n",
    "import torch.nn as nn\n",
    "import torch.nn.functional as F\n",
    "import torch.optim as optim\n",
    "from sklearn.model_selection import train_test_split\n",
    "\n",
    "from torch.utils.data import TensorDataset, DataLoader\n",
    "\n",
    "import numpy as np\n",
    "import pandas as pd\n",
    "from sklearn import metrics\n",
    "\n",
    "import seaborn as sns\n",
    "%matplotlib inline\n",
    "from matplotlib import pyplot as plt\n",
    "from torch.utils.data import Dataset, DataLoader\n",
    "\n",
    "import torchvision\n",
    "import torchvision.transforms as transforms"
   ]
  },
  {
   "cell_type": "code",
   "execution_count": 61,
   "metadata": {},
   "outputs": [],
   "source": [
    "task2 = np.load('./data_task2.npy')\n",
    "task2_label = np.load('./label_task2.npy')"
   ]
  },
  {
   "cell_type": "code",
   "execution_count": 62,
   "metadata": {},
   "outputs": [
    {
     "output_type": "stream",
     "name": "stdout",
     "text": [
      "(180, 10, 10)\n(180,)\n"
     ]
    }
   ],
   "source": [
    "print(task2.shape)\n",
    "print(task2_label.shape)"
   ]
  },
  {
   "cell_type": "code",
   "execution_count": 63,
   "metadata": {},
   "outputs": [],
   "source": [
    "tensor_x = torch.Tensor(task2)\n",
    "tensor_y = torch.Tensor(task2_label)\n",
    "\n",
    "tensor_x = tensor_x.unsqueeze(1)\n",
    "\n",
    "task2_dataset = TensorDataset(tensor_x,tensor_y)"
   ]
  },
  {
   "cell_type": "code",
   "execution_count": 64,
   "metadata": {},
   "outputs": [],
   "source": [
    "tensor_x = torch.Tensor(task2)\n",
    "tensor_y = torch.Tensor(task2_label)\n",
    "\n",
    "tensor_x = tensor_x.unsqueeze(1)\n",
    "\n",
    "task2_dataset = TensorDataset(tensor_x,tensor_y)"
   ]
  },
  {
   "cell_type": "code",
   "execution_count": 65,
   "metadata": {},
   "outputs": [
    {
     "output_type": "execute_result",
     "data": {
      "text/plain": [
       "torch.Size([180, 1, 10, 10])"
      ]
     },
     "metadata": {},
     "execution_count": 65
    }
   ],
   "source": [
    "tensor_x.shape"
   ]
  },
  {
   "cell_type": "code",
   "execution_count": 107,
   "metadata": {},
   "outputs": [
    {
     "output_type": "stream",
     "name": "stdout",
     "text": [
      "180 180 0\n"
     ]
    }
   ],
   "source": [
    "input_len = len(task2_dataset)\n",
    "test_ratio = 0.0\n",
    "test_size = int(input_len * test_ratio)\n",
    "train_size = input_len - test_size\n",
    "\n",
    "print(input_len, train_size, test_size)"
   ]
  },
  {
   "cell_type": "code",
   "execution_count": 108,
   "metadata": {},
   "outputs": [
    {
     "output_type": "stream",
     "name": "stdout",
     "text": [
      "180 0\n"
     ]
    }
   ],
   "source": [
    "train_data, test_data = torch.utils.data.random_split(task2_dataset, (train_size, test_size))\n",
    "print(len(train_data), len(test_data))"
   ]
  },
  {
   "cell_type": "code",
   "execution_count": 109,
   "metadata": {},
   "outputs": [
    {
     "output_type": "error",
     "ename": "ValueError",
     "evalue": "num_samples should be a positive integer value, but got num_samples=0",
     "traceback": [
      "\u001b[0;31m---------------------------------------------------------------------------\u001b[0m",
      "\u001b[0;31mValueError\u001b[0m                                Traceback (most recent call last)",
      "\u001b[0;32m<ipython-input-109-583b92367a07>\u001b[0m in \u001b[0;36m<module>\u001b[0;34m\u001b[0m\n\u001b[1;32m      1\u001b[0m \u001b[0mtask2_train_dataloader\u001b[0m \u001b[0;34m=\u001b[0m \u001b[0mDataLoader\u001b[0m\u001b[0;34m(\u001b[0m\u001b[0mtrain_data\u001b[0m\u001b[0;34m,\u001b[0m \u001b[0mbatch_size\u001b[0m\u001b[0;34m=\u001b[0m\u001b[0;36m6\u001b[0m\u001b[0;34m,\u001b[0m \u001b[0mshuffle\u001b[0m\u001b[0;34m=\u001b[0m\u001b[0;32mTrue\u001b[0m\u001b[0;34m,\u001b[0m \u001b[0mnum_workers\u001b[0m\u001b[0;34m=\u001b[0m\u001b[0;36m2\u001b[0m\u001b[0;34m)\u001b[0m\u001b[0;34m\u001b[0m\u001b[0;34m\u001b[0m\u001b[0m\n\u001b[0;32m----> 2\u001b[0;31m \u001b[0mtask2_test_dataloader\u001b[0m \u001b[0;34m=\u001b[0m \u001b[0mDataLoader\u001b[0m\u001b[0;34m(\u001b[0m\u001b[0mtest_data\u001b[0m\u001b[0;34m,\u001b[0m \u001b[0mbatch_size\u001b[0m\u001b[0;34m=\u001b[0m\u001b[0;36m6\u001b[0m\u001b[0;34m,\u001b[0m \u001b[0mshuffle\u001b[0m\u001b[0;34m=\u001b[0m\u001b[0;32mTrue\u001b[0m\u001b[0;34m,\u001b[0m \u001b[0mnum_workers\u001b[0m\u001b[0;34m=\u001b[0m\u001b[0;36m2\u001b[0m\u001b[0;34m)\u001b[0m\u001b[0;34m\u001b[0m\u001b[0;34m\u001b[0m\u001b[0m\n\u001b[0m",
      "\u001b[0;32m~/opt/anaconda3/lib/python3.8/site-packages/torch/utils/data/dataloader.py\u001b[0m in \u001b[0;36m__init__\u001b[0;34m(self, dataset, batch_size, shuffle, sampler, batch_sampler, num_workers, collate_fn, pin_memory, drop_last, timeout, worker_init_fn, multiprocessing_context, generator, prefetch_factor, persistent_workers)\u001b[0m\n\u001b[1;32m    260\u001b[0m                     \u001b[0;31m# Cannot statically verify that dataset is Sized\u001b[0m\u001b[0;34m\u001b[0m\u001b[0;34m\u001b[0m\u001b[0;34m\u001b[0m\u001b[0m\n\u001b[1;32m    261\u001b[0m                     \u001b[0;31m# Somewhat related: see NOTE [ Lack of Default `__len__` in Python Abstract Base Classes ]\u001b[0m\u001b[0;34m\u001b[0m\u001b[0;34m\u001b[0m\u001b[0;34m\u001b[0m\u001b[0m\n\u001b[0;32m--> 262\u001b[0;31m                     \u001b[0msampler\u001b[0m \u001b[0;34m=\u001b[0m \u001b[0mRandomSampler\u001b[0m\u001b[0;34m(\u001b[0m\u001b[0mdataset\u001b[0m\u001b[0;34m,\u001b[0m \u001b[0mgenerator\u001b[0m\u001b[0;34m=\u001b[0m\u001b[0mgenerator\u001b[0m\u001b[0;34m)\u001b[0m  \u001b[0;31m# type: ignore\u001b[0m\u001b[0;34m\u001b[0m\u001b[0;34m\u001b[0m\u001b[0m\n\u001b[0m\u001b[1;32m    263\u001b[0m                 \u001b[0;32melse\u001b[0m\u001b[0;34m:\u001b[0m\u001b[0;34m\u001b[0m\u001b[0;34m\u001b[0m\u001b[0m\n\u001b[1;32m    264\u001b[0m                     \u001b[0msampler\u001b[0m \u001b[0;34m=\u001b[0m \u001b[0mSequentialSampler\u001b[0m\u001b[0;34m(\u001b[0m\u001b[0mdataset\u001b[0m\u001b[0;34m)\u001b[0m\u001b[0;34m\u001b[0m\u001b[0;34m\u001b[0m\u001b[0m\n",
      "\u001b[0;32m~/opt/anaconda3/lib/python3.8/site-packages/torch/utils/data/sampler.py\u001b[0m in \u001b[0;36m__init__\u001b[0;34m(self, data_source, replacement, num_samples, generator)\u001b[0m\n\u001b[1;32m    101\u001b[0m \u001b[0;34m\u001b[0m\u001b[0m\n\u001b[1;32m    102\u001b[0m         \u001b[0;32mif\u001b[0m \u001b[0;32mnot\u001b[0m \u001b[0misinstance\u001b[0m\u001b[0;34m(\u001b[0m\u001b[0mself\u001b[0m\u001b[0;34m.\u001b[0m\u001b[0mnum_samples\u001b[0m\u001b[0;34m,\u001b[0m \u001b[0mint\u001b[0m\u001b[0;34m)\u001b[0m \u001b[0;32mor\u001b[0m \u001b[0mself\u001b[0m\u001b[0;34m.\u001b[0m\u001b[0mnum_samples\u001b[0m \u001b[0;34m<=\u001b[0m \u001b[0;36m0\u001b[0m\u001b[0;34m:\u001b[0m\u001b[0;34m\u001b[0m\u001b[0;34m\u001b[0m\u001b[0m\n\u001b[0;32m--> 103\u001b[0;31m             raise ValueError(\"num_samples should be a positive integer \"\n\u001b[0m\u001b[1;32m    104\u001b[0m                              \"value, but got num_samples={}\".format(self.num_samples))\n\u001b[1;32m    105\u001b[0m \u001b[0;34m\u001b[0m\u001b[0m\n",
      "\u001b[0;31mValueError\u001b[0m: num_samples should be a positive integer value, but got num_samples=0"
     ]
    }
   ],
   "source": [
    "task2_train_dataloader = DataLoader(train_data, batch_size=6, shuffle=True, num_workers=2)\n",
    "# task2_test_dataloader = DataLoader(test_data, batch_size=6, shuffle=True, num_workers=2)"
   ]
  },
  {
   "cell_type": "code",
   "execution_count": 115,
   "metadata": {},
   "outputs": [],
   "source": [
    "import torch.nn as nn\n",
    "import torch.nn.functional as F\n",
    "\n",
    "class Conv2d_net(nn.Module):\n",
    "    def __init__(self):\n",
    "        super(Conv2d_net, self).__init__() # 10*10\n",
    "        self.conv1 = nn.Conv2d(1, 6, 5, padding=2) # 6@10*10 # 한개 채널의 2d 이미지를 3x3 커널로 6개의 채널을 출력\n",
    "        self.pool = nn.MaxPool2d(2, 2) # 6@5*5\n",
    "        self.conv2 = nn.Conv2d(6, 10, 2, padding=1) # 16@ 6*6\n",
    "\n",
    "        self.fc1 = nn.Linear(10 * 6 * 6, 84) \n",
    "        self.fc2 = nn.Linear(84, 36)\n",
    "        self.fc3 = nn.Linear(36, 3)\n",
    "\n",
    "        self.drop_3 = nn.Dropout(0.3)\n",
    "        self.conv1_bn = nn.BatchNorm2d(6)\n",
    "        self.conv2_bn = nn.BatchNorm2d(10)\n",
    "\n",
    "    def forward(self, x):\n",
    "        x = self.pool(F.elu(self.conv1_bn(self.conv1(x))))\n",
    "        x = F.elu(self.conv2_bn(self.conv2(x)))\n",
    "        x = x.view(-1, 10 * 6 * 6)\n",
    "        x = self.drop_3(F.elu((self.fc1(x))))\n",
    "        x = self.drop_3(F.elu(self.fc2(x)))\n",
    "        x = self.fc3(x)\n",
    "        return x\n",
    "\n",
    "task2_model = Conv2d_net()"
   ]
  },
  {
   "cell_type": "code",
   "execution_count": 116,
   "metadata": {},
   "outputs": [
    {
     "output_type": "stream",
     "name": "stdout",
     "text": [
      "<bound method Module.parameters of Conv2d_net(\n  (conv1): Conv2d(1, 6, kernel_size=(5, 5), stride=(1, 1), padding=(2, 2))\n  (pool): MaxPool2d(kernel_size=2, stride=2, padding=0, dilation=1, ceil_mode=False)\n  (conv2): Conv2d(6, 10, kernel_size=(2, 2), stride=(1, 1), padding=(1, 1))\n  (fc1): Linear(in_features=360, out_features=84, bias=True)\n  (fc2): Linear(in_features=84, out_features=36, bias=True)\n  (fc3): Linear(in_features=36, out_features=3, bias=True)\n  (drop_3): Dropout(p=0.3, inplace=False)\n  (conv1_bn): BatchNorm2d(6, eps=1e-05, momentum=0.1, affine=True, track_running_stats=True)\n  (conv2_bn): BatchNorm2d(10, eps=1e-05, momentum=0.1, affine=True, track_running_stats=True)\n)>\n"
     ]
    }
   ],
   "source": [
    "print(task2_model.parameters)"
   ]
  },
  {
   "cell_type": "code",
   "execution_count": 117,
   "metadata": {},
   "outputs": [],
   "source": [
    "import torch.optim as optim\n",
    "\n",
    "criterion = nn.CrossEntropyLoss()\n",
    "# optimizer = optim.SGD(net.parameters(), lr=0.001, momentum=0.9)\n",
    "optimizer = optim.Adam(task2_model.parameters(), lr=0.002)"
   ]
  },
  {
   "cell_type": "code",
   "execution_count": 118,
   "metadata": {},
   "outputs": [],
   "source": [
    "train_loss = []\n",
    "train_accuracy = []\n",
    "\n",
    "prev_loss = 10\n",
    "PATH = \"./state_dict_task2_model.pt\"\n",
    "best_acc = 10.0\n",
    "num_epochs = 201\n",
    "\n",
    "val_corrects_list = []\n",
    "val_loss_list = []"
   ]
  },
  {
   "cell_type": "code",
   "execution_count": 119,
   "metadata": {},
   "outputs": [
    {
     "output_type": "stream",
     "name": "stdout",
     "text": [
      "Epoch 0/200\n",
      "----------\n",
      "Train) Loss: 0.9798 Acc: 0.5611\n",
      "Saving the best model w/ loss 0.9798\n",
      "Epoch 1/200\n",
      "----------\n",
      "Train) Loss: 0.7462 Acc: 0.6778\n",
      "Saving the best model w/ loss 0.7462\n",
      "Epoch 2/200\n",
      "----------\n",
      "Train) Loss: 0.6415 Acc: 0.7722\n",
      "Saving the best model w/ loss 0.6415\n",
      "Epoch 3/200\n",
      "----------\n",
      "Train) Loss: 0.6107 Acc: 0.7389\n",
      "Saving the best model w/ loss 0.6107\n",
      "Epoch 4/200\n",
      "----------\n",
      "Train) Loss: 0.5417 Acc: 0.7778\n",
      "Saving the best model w/ loss 0.5417\n",
      "Epoch 5/200\n",
      "----------\n",
      "Train) Loss: 0.5591 Acc: 0.7722\n",
      "Epoch 6/200\n",
      "----------\n",
      "Train) Loss: 0.4734 Acc: 0.8000\n",
      "Saving the best model w/ loss 0.4734\n",
      "Epoch 7/200\n",
      "----------\n",
      "Train) Loss: 0.4393 Acc: 0.8056\n",
      "Saving the best model w/ loss 0.4393\n",
      "Epoch 8/200\n",
      "----------\n",
      "Train) Loss: 0.3446 Acc: 0.8611\n",
      "Saving the best model w/ loss 0.3446\n",
      "Epoch 9/200\n",
      "----------\n",
      "Train) Loss: 0.2768 Acc: 0.9000\n",
      "Saving the best model w/ loss 0.2768\n",
      "Epoch 10/200\n",
      "----------\n",
      "Train) Loss: 0.2669 Acc: 0.8778\n",
      "Saving the best model w/ loss 0.2669\n",
      "Epoch 11/200\n",
      "----------\n",
      "Train) Loss: 0.4464 Acc: 0.8500\n",
      "Epoch 12/200\n",
      "----------\n",
      "Train) Loss: 0.3412 Acc: 0.8444\n",
      "Epoch 13/200\n",
      "----------\n",
      "Train) Loss: 0.2459 Acc: 0.8778\n",
      "Saving the best model w/ loss 0.2459\n",
      "Epoch 14/200\n",
      "----------\n",
      "Train) Loss: 0.2020 Acc: 0.9389\n",
      "Saving the best model w/ loss 0.2020\n",
      "Epoch 15/200\n",
      "----------\n",
      "Train) Loss: 0.1769 Acc: 0.9278\n",
      "Saving the best model w/ loss 0.1769\n",
      "Epoch 16/200\n",
      "----------\n",
      "Train) Loss: 0.1800 Acc: 0.9111\n",
      "Epoch 17/200\n",
      "----------\n",
      "Train) Loss: 0.1945 Acc: 0.9278\n",
      "Epoch 18/200\n",
      "----------\n",
      "Train) Loss: 0.2235 Acc: 0.9167\n",
      "Epoch 19/200\n",
      "----------\n",
      "Train) Loss: 0.1482 Acc: 0.9389\n",
      "Saving the best model w/ loss 0.1482\n",
      "Epoch 20/200\n",
      "----------\n",
      "Train) Loss: 0.1229 Acc: 0.9500\n",
      "Saving the best model w/ loss 0.1229\n",
      "Epoch 21/200\n",
      "----------\n",
      "Train) Loss: 0.2304 Acc: 0.9111\n",
      "Epoch 22/200\n",
      "----------\n",
      "Train) Loss: 0.1565 Acc: 0.9333\n",
      "Epoch 23/200\n",
      "----------\n",
      "Train) Loss: 0.1918 Acc: 0.9111\n",
      "Epoch 24/200\n",
      "----------\n",
      "Train) Loss: 0.2497 Acc: 0.8889\n",
      "Epoch 25/200\n",
      "----------\n",
      "Train) Loss: 0.1451 Acc: 0.9500\n",
      "Epoch 26/200\n",
      "----------\n",
      "Train) Loss: 0.1733 Acc: 0.9333\n",
      "Epoch 27/200\n",
      "----------\n",
      "Train) Loss: 0.2261 Acc: 0.8944\n",
      "Epoch 28/200\n",
      "----------\n",
      "Train) Loss: 0.1812 Acc: 0.9222\n",
      "Epoch 29/200\n",
      "----------\n",
      "Train) Loss: 0.2025 Acc: 0.9389\n",
      "Epoch 30/200\n",
      "----------\n",
      "Train) Loss: 0.1317 Acc: 0.9500\n",
      "Epoch 31/200\n",
      "----------\n",
      "Train) Loss: 0.2140 Acc: 0.8944\n",
      "Epoch 32/200\n",
      "----------\n",
      "Train) Loss: 0.2500 Acc: 0.9111\n",
      "Epoch 33/200\n",
      "----------\n",
      "Train) Loss: 0.1291 Acc: 0.9667\n",
      "Epoch 34/200\n",
      "----------\n",
      "Train) Loss: 0.1114 Acc: 0.9722\n",
      "Saving the best model w/ loss 0.1114\n",
      "Epoch 35/200\n",
      "----------\n",
      "Train) Loss: 0.0957 Acc: 0.9722\n",
      "Saving the best model w/ loss 0.0957\n",
      "Epoch 36/200\n",
      "----------\n",
      "Train) Loss: 0.1650 Acc: 0.9278\n",
      "Epoch 37/200\n",
      "----------\n",
      "Train) Loss: 0.1051 Acc: 0.9611\n",
      "Epoch 38/200\n",
      "----------\n",
      "Train) Loss: 0.1247 Acc: 0.9556\n",
      "Epoch 39/200\n",
      "----------\n",
      "Train) Loss: 0.1500 Acc: 0.9389\n",
      "Epoch 40/200\n",
      "----------\n",
      "Train) Loss: 0.1636 Acc: 0.9389\n",
      "Epoch 41/200\n",
      "----------\n",
      "Train) Loss: 0.1005 Acc: 0.9667\n",
      "Epoch 42/200\n",
      "----------\n",
      "Train) Loss: 0.1120 Acc: 0.9667\n",
      "Epoch 43/200\n",
      "----------\n",
      "Train) Loss: 0.0926 Acc: 0.9722\n",
      "Saving the best model w/ loss 0.0926\n",
      "Epoch 44/200\n",
      "----------\n",
      "Train) Loss: 0.1766 Acc: 0.9389\n",
      "Epoch 45/200\n",
      "----------\n",
      "Train) Loss: 0.1478 Acc: 0.9556\n",
      "Epoch 46/200\n",
      "----------\n",
      "Train) Loss: 0.0835 Acc: 0.9778\n",
      "Saving the best model w/ loss 0.0835\n",
      "Epoch 47/200\n",
      "----------\n",
      "Train) Loss: 0.1311 Acc: 0.9444\n",
      "Epoch 48/200\n",
      "----------\n",
      "Train) Loss: 0.0884 Acc: 0.9667\n",
      "Epoch 49/200\n",
      "----------\n",
      "Train) Loss: 0.1188 Acc: 0.9389\n",
      "Epoch 50/200\n",
      "----------\n",
      "Train) Loss: 0.1236 Acc: 0.9556\n",
      "Epoch 51/200\n",
      "----------\n",
      "Train) Loss: 0.0845 Acc: 0.9722\n",
      "Epoch 52/200\n",
      "----------\n",
      "Train) Loss: 0.0538 Acc: 0.9778\n",
      "Saving the best model w/ loss 0.0538\n",
      "Epoch 53/200\n",
      "----------\n",
      "Train) Loss: 0.0655 Acc: 0.9778\n",
      "Epoch 54/200\n",
      "----------\n",
      "Train) Loss: 0.1078 Acc: 0.9556\n",
      "Epoch 55/200\n",
      "----------\n",
      "Train) Loss: 0.0799 Acc: 0.9556\n",
      "Epoch 56/200\n",
      "----------\n",
      "Train) Loss: 0.0808 Acc: 0.9667\n",
      "Epoch 57/200\n",
      "----------\n",
      "Train) Loss: 0.0607 Acc: 0.9833\n",
      "Epoch 58/200\n",
      "----------\n",
      "Train) Loss: 0.0821 Acc: 0.9667\n",
      "Epoch 59/200\n",
      "----------\n",
      "Train) Loss: 0.0774 Acc: 0.9778\n",
      "Epoch 60/200\n",
      "----------\n",
      "Train) Loss: 0.0454 Acc: 0.9778\n",
      "Saving the best model w/ loss 0.0454\n",
      "Epoch 61/200\n",
      "----------\n",
      "Train) Loss: 0.0443 Acc: 0.9722\n",
      "Saving the best model w/ loss 0.0443\n",
      "Epoch 62/200\n",
      "----------\n",
      "Train) Loss: 0.0858 Acc: 0.9611\n",
      "Epoch 63/200\n",
      "----------\n",
      "Train) Loss: 0.1589 Acc: 0.9556\n",
      "Epoch 64/200\n",
      "----------\n",
      "Train) Loss: 0.0448 Acc: 0.9889\n",
      "Epoch 65/200\n",
      "----------\n",
      "Train) Loss: 0.0582 Acc: 0.9722\n",
      "Epoch 66/200\n",
      "----------\n",
      "Train) Loss: 0.0207 Acc: 1.0000\n",
      "Saving the best model w/ loss 0.0207\n",
      "Epoch 67/200\n",
      "----------\n",
      "Train) Loss: 0.0457 Acc: 0.9889\n",
      "Epoch 68/200\n",
      "----------\n",
      "Train) Loss: 0.0428 Acc: 0.9833\n",
      "Epoch 69/200\n",
      "----------\n",
      "Train) Loss: 0.0285 Acc: 0.9944\n",
      "Epoch 70/200\n",
      "----------\n",
      "Train) Loss: 0.0209 Acc: 0.9944\n",
      "Epoch 71/200\n",
      "----------\n",
      "Train) Loss: 0.1474 Acc: 0.9500\n",
      "Epoch 72/200\n",
      "----------\n",
      "Train) Loss: 0.0793 Acc: 0.9667\n",
      "Epoch 73/200\n",
      "----------\n",
      "Train) Loss: 0.0534 Acc: 0.9778\n",
      "Epoch 74/200\n",
      "----------\n",
      "Train) Loss: 0.1313 Acc: 0.9667\n",
      "Epoch 75/200\n",
      "----------\n",
      "Train) Loss: 0.0927 Acc: 0.9722\n",
      "Epoch 76/200\n",
      "----------\n",
      "Train) Loss: 0.0624 Acc: 0.9778\n",
      "Epoch 77/200\n",
      "----------\n",
      "Train) Loss: 0.0215 Acc: 0.9833\n",
      "Epoch 78/200\n",
      "----------\n",
      "Train) Loss: 0.0547 Acc: 0.9889\n",
      "Epoch 79/200\n",
      "----------\n",
      "Train) Loss: 0.0154 Acc: 0.9944\n",
      "Saving the best model w/ loss 0.0154\n",
      "Epoch 80/200\n",
      "----------\n",
      "Train) Loss: 0.0236 Acc: 0.9944\n",
      "Epoch 81/200\n",
      "----------\n",
      "Train) Loss: 0.0185 Acc: 0.9944\n",
      "Epoch 82/200\n",
      "----------\n",
      "Train) Loss: 0.0145 Acc: 0.9944\n",
      "Saving the best model w/ loss 0.0145\n",
      "Epoch 83/200\n",
      "----------\n",
      "Train) Loss: 0.0132 Acc: 1.0000\n",
      "Saving the best model w/ loss 0.0132\n",
      "Epoch 84/200\n",
      "----------\n",
      "Train) Loss: 0.0740 Acc: 0.9778\n",
      "Epoch 85/200\n",
      "----------\n",
      "Train) Loss: 0.0954 Acc: 0.9722\n",
      "Epoch 86/200\n",
      "----------\n",
      "Train) Loss: 0.1005 Acc: 0.9667\n",
      "Epoch 87/200\n",
      "----------\n",
      "Train) Loss: 0.0535 Acc: 0.9944\n",
      "Epoch 88/200\n",
      "----------\n",
      "Train) Loss: 0.0506 Acc: 0.9778\n",
      "Epoch 89/200\n",
      "----------\n",
      "Train) Loss: 0.0333 Acc: 0.9889\n",
      "Epoch 90/200\n",
      "----------\n",
      "Train) Loss: 0.0168 Acc: 0.9944\n",
      "Epoch 91/200\n",
      "----------\n",
      "Train) Loss: 0.0232 Acc: 0.9944\n",
      "Epoch 92/200\n",
      "----------\n",
      "Train) Loss: 0.0133 Acc: 0.9944\n",
      "Epoch 93/200\n",
      "----------\n",
      "Train) Loss: 0.0900 Acc: 0.9722\n",
      "Epoch 94/200\n",
      "----------\n",
      "Train) Loss: 0.1488 Acc: 0.9556\n",
      "Epoch 95/200\n",
      "----------\n",
      "Train) Loss: 0.0428 Acc: 0.9833\n",
      "Epoch 96/200\n",
      "----------\n",
      "Train) Loss: 0.0213 Acc: 0.9944\n",
      "Epoch 97/200\n",
      "----------\n",
      "Train) Loss: 0.0238 Acc: 0.9889\n",
      "Epoch 98/200\n",
      "----------\n",
      "Train) Loss: 0.0264 Acc: 0.9889\n",
      "Epoch 99/200\n",
      "----------\n",
      "Train) Loss: 0.0881 Acc: 0.9667\n",
      "Epoch 100/200\n",
      "----------\n",
      "Train) Loss: 0.0684 Acc: 0.9778\n",
      "Epoch 101/200\n",
      "----------\n",
      "Train) Loss: 0.0870 Acc: 0.9833\n",
      "Epoch 102/200\n",
      "----------\n",
      "Train) Loss: 0.0899 Acc: 0.9667\n",
      "Epoch 103/200\n",
      "----------\n",
      "Train) Loss: 0.0270 Acc: 0.9944\n",
      "Epoch 104/200\n",
      "----------\n",
      "Train) Loss: 0.0056 Acc: 1.0000\n",
      "Saving the best model w/ loss 0.0056\n",
      "Epoch 105/200\n",
      "----------\n",
      "Train) Loss: 0.0108 Acc: 1.0000\n",
      "Epoch 106/200\n",
      "----------\n",
      "Train) Loss: 0.0084 Acc: 1.0000\n",
      "Epoch 107/200\n",
      "----------\n",
      "Train) Loss: 0.0034 Acc: 1.0000\n",
      "Saving the best model w/ loss 0.0034\n",
      "Epoch 108/200\n",
      "----------\n",
      "Train) Loss: 0.0022 Acc: 1.0000\n",
      "Saving the best model w/ loss 0.0022\n",
      "Epoch 109/200\n",
      "----------\n",
      "Train) Loss: 0.0039 Acc: 1.0000\n",
      "Epoch 110/200\n",
      "----------\n",
      "Train) Loss: 0.0103 Acc: 0.9944\n",
      "Epoch 111/200\n",
      "----------\n",
      "Train) Loss: 0.0026 Acc: 1.0000\n",
      "Epoch 112/200\n",
      "----------\n",
      "Train) Loss: 0.0092 Acc: 0.9944\n",
      "Epoch 113/200\n",
      "----------\n",
      "Train) Loss: 0.0324 Acc: 0.9833\n",
      "Epoch 114/200\n",
      "----------\n",
      "Train) Loss: 0.0868 Acc: 0.9667\n",
      "Epoch 115/200\n",
      "----------\n",
      "Train) Loss: 0.0231 Acc: 0.9889\n",
      "Epoch 116/200\n",
      "----------\n",
      "Train) Loss: 0.0414 Acc: 0.9833\n",
      "Epoch 117/200\n",
      "----------\n",
      "Train) Loss: 0.0572 Acc: 0.9722\n",
      "Epoch 118/200\n",
      "----------\n",
      "Train) Loss: 0.1780 Acc: 0.9500\n",
      "Epoch 119/200\n",
      "----------\n",
      "Train) Loss: 0.0319 Acc: 0.9889\n",
      "Epoch 120/200\n",
      "----------\n",
      "Train) Loss: 0.0185 Acc: 1.0000\n",
      "Epoch 121/200\n",
      "----------\n",
      "Train) Loss: 0.0196 Acc: 0.9944\n",
      "Epoch 122/200\n",
      "----------\n",
      "Train) Loss: 0.0080 Acc: 1.0000\n",
      "Epoch 123/200\n",
      "----------\n",
      "Train) Loss: 0.0045 Acc: 1.0000\n",
      "Epoch 124/200\n",
      "----------\n",
      "Train) Loss: 0.0064 Acc: 0.9944\n",
      "Epoch 125/200\n",
      "----------\n",
      "Train) Loss: 0.0086 Acc: 1.0000\n",
      "Epoch 126/200\n",
      "----------\n",
      "Train) Loss: 0.0049 Acc: 1.0000\n",
      "Epoch 127/200\n",
      "----------\n",
      "Train) Loss: 0.0044 Acc: 1.0000\n",
      "Epoch 128/200\n",
      "----------\n",
      "Train) Loss: 0.0033 Acc: 1.0000\n",
      "Epoch 129/200\n",
      "----------\n",
      "Train) Loss: 0.0007 Acc: 1.0000\n",
      "Saving the best model w/ loss 0.0007\n",
      "Epoch 130/200\n",
      "----------\n",
      "Train) Loss: 0.0010 Acc: 1.0000\n",
      "Epoch 131/200\n",
      "----------\n",
      "Train) Loss: 0.0011 Acc: 1.0000\n",
      "Epoch 132/200\n",
      "----------\n",
      "Train) Loss: 0.0320 Acc: 0.9889\n",
      "Epoch 133/200\n",
      "----------\n",
      "Train) Loss: 0.0066 Acc: 1.0000\n",
      "Epoch 134/200\n",
      "----------\n",
      "Train) Loss: 0.1029 Acc: 0.9889\n",
      "Epoch 135/200\n",
      "----------\n",
      "Train) Loss: 0.2768 Acc: 0.9444\n",
      "Epoch 136/200\n",
      "----------\n",
      "Train) Loss: 0.1122 Acc: 0.9722\n",
      "Epoch 137/200\n",
      "----------\n",
      "Train) Loss: 0.0736 Acc: 0.9722\n",
      "Epoch 138/200\n",
      "----------\n",
      "Train) Loss: 0.0224 Acc: 0.9944\n",
      "Epoch 139/200\n",
      "----------\n",
      "Train) Loss: 0.0173 Acc: 1.0000\n",
      "Epoch 140/200\n",
      "----------\n",
      "Train) Loss: 0.0146 Acc: 0.9944\n",
      "Epoch 141/200\n",
      "----------\n",
      "Train) Loss: 0.0202 Acc: 0.9944\n",
      "Epoch 142/200\n",
      "----------\n",
      "Train) Loss: 0.0163 Acc: 0.9944\n",
      "Epoch 143/200\n",
      "----------\n",
      "Train) Loss: 0.0058 Acc: 1.0000\n",
      "Epoch 144/200\n",
      "----------\n",
      "Train) Loss: 0.0420 Acc: 0.9889\n",
      "Epoch 145/200\n",
      "----------\n",
      "Train) Loss: 0.0359 Acc: 0.9889\n",
      "Epoch 146/200\n",
      "----------\n",
      "Train) Loss: 0.0035 Acc: 1.0000\n",
      "Epoch 147/200\n",
      "----------\n",
      "Train) Loss: 0.0021 Acc: 1.0000\n",
      "Epoch 148/200\n",
      "----------\n",
      "Train) Loss: 0.0020 Acc: 1.0000\n",
      "Epoch 149/200\n",
      "----------\n",
      "Train) Loss: 0.0048 Acc: 1.0000\n",
      "Epoch 150/200\n",
      "----------\n",
      "Train) Loss: 0.0067 Acc: 1.0000\n",
      "Epoch 151/200\n",
      "----------\n",
      "Train) Loss: 0.0976 Acc: 0.9722\n",
      "Epoch 152/200\n",
      "----------\n",
      "Train) Loss: 0.1033 Acc: 0.9722\n",
      "Epoch 153/200\n",
      "----------\n",
      "Train) Loss: 0.1134 Acc: 0.9833\n",
      "Epoch 154/200\n",
      "----------\n",
      "Train) Loss: 0.0581 Acc: 0.9833\n",
      "Epoch 155/200\n",
      "----------\n",
      "Train) Loss: 0.0367 Acc: 0.9778\n",
      "Epoch 156/200\n",
      "----------\n",
      "Train) Loss: 0.0396 Acc: 0.9833\n",
      "Epoch 157/200\n",
      "----------\n",
      "Train) Loss: 0.0091 Acc: 1.0000\n",
      "Epoch 158/200\n",
      "----------\n",
      "Train) Loss: 0.0106 Acc: 0.9944\n",
      "Epoch 159/200\n",
      "----------\n",
      "Train) Loss: 0.0059 Acc: 1.0000\n",
      "Epoch 160/200\n",
      "----------\n",
      "Train) Loss: 0.0173 Acc: 0.9889\n",
      "Epoch 161/200\n",
      "----------\n",
      "Train) Loss: 0.0035 Acc: 1.0000\n",
      "Epoch 162/200\n",
      "----------\n",
      "Train) Loss: 0.0033 Acc: 1.0000\n",
      "Epoch 163/200\n",
      "----------\n",
      "Train) Loss: 0.0145 Acc: 0.9889\n",
      "Epoch 164/200\n",
      "----------\n",
      "Train) Loss: 0.0029 Acc: 1.0000\n",
      "Epoch 165/200\n",
      "----------\n",
      "Train) Loss: 0.0087 Acc: 1.0000\n",
      "Epoch 166/200\n",
      "----------\n",
      "Train) Loss: 0.0015 Acc: 1.0000\n",
      "Epoch 167/200\n",
      "----------\n",
      "Train) Loss: 0.0064 Acc: 1.0000\n",
      "Epoch 168/200\n",
      "----------\n",
      "Train) Loss: 0.0058 Acc: 1.0000\n",
      "Epoch 169/200\n",
      "----------\n",
      "Train) Loss: 0.0023 Acc: 1.0000\n",
      "Epoch 170/200\n",
      "----------\n",
      "Train) Loss: 0.0008 Acc: 1.0000\n",
      "Epoch 171/200\n",
      "----------\n",
      "Train) Loss: 0.0034 Acc: 1.0000\n",
      "Epoch 172/200\n",
      "----------\n",
      "Train) Loss: 0.0032 Acc: 1.0000\n",
      "Epoch 173/200\n",
      "----------\n",
      "Train) Loss: 0.0017 Acc: 1.0000\n",
      "Epoch 174/200\n",
      "----------\n",
      "Train) Loss: 0.0092 Acc: 0.9944\n",
      "Epoch 175/200\n",
      "----------\n",
      "Train) Loss: 0.0350 Acc: 0.9833\n",
      "Epoch 176/200\n",
      "----------\n",
      "Train) Loss: 0.1426 Acc: 0.9556\n",
      "Epoch 177/200\n",
      "----------\n",
      "Train) Loss: 0.0484 Acc: 0.9778\n",
      "Epoch 178/200\n",
      "----------\n",
      "Train) Loss: 0.0413 Acc: 0.9722\n",
      "Epoch 179/200\n",
      "----------\n",
      "Train) Loss: 0.0039 Acc: 1.0000\n",
      "Epoch 180/200\n",
      "----------\n",
      "Train) Loss: 0.0010 Acc: 1.0000\n",
      "Epoch 181/200\n",
      "----------\n",
      "Train) Loss: 0.0019 Acc: 1.0000\n",
      "Epoch 182/200\n",
      "----------\n",
      "Train) Loss: 0.0064 Acc: 1.0000\n",
      "Epoch 183/200\n",
      "----------\n",
      "Train) Loss: 0.0186 Acc: 0.9944\n",
      "Epoch 184/200\n",
      "----------\n",
      "Train) Loss: 0.0230 Acc: 0.9944\n",
      "Epoch 185/200\n",
      "----------\n",
      "Train) Loss: 0.0022 Acc: 1.0000\n",
      "Epoch 186/200\n",
      "----------\n",
      "Train) Loss: 0.0016 Acc: 1.0000\n",
      "Epoch 187/200\n",
      "----------\n",
      "Train) Loss: 0.0018 Acc: 1.0000\n",
      "Epoch 188/200\n",
      "----------\n",
      "Train) Loss: 0.0012 Acc: 1.0000\n",
      "Epoch 189/200\n",
      "----------\n",
      "Train) Loss: 0.0108 Acc: 0.9944\n",
      "Epoch 190/200\n",
      "----------\n",
      "Train) Loss: 0.1221 Acc: 0.9778\n",
      "Epoch 191/200\n",
      "----------\n",
      "Train) Loss: 0.0904 Acc: 0.9889\n",
      "Epoch 192/200\n",
      "----------\n",
      "Train) Loss: 0.1259 Acc: 0.9611\n",
      "Epoch 193/200\n",
      "----------\n",
      "Train) Loss: 0.0392 Acc: 0.9833\n",
      "Epoch 194/200\n",
      "----------\n",
      "Train) Loss: 0.0237 Acc: 0.9889\n",
      "Epoch 195/200\n",
      "----------\n",
      "Train) Loss: 0.0195 Acc: 0.9944\n",
      "Epoch 196/200\n",
      "----------\n",
      "Train) Loss: 0.0103 Acc: 1.0000\n",
      "Epoch 197/200\n",
      "----------\n",
      "Train) Loss: 0.0147 Acc: 0.9944\n",
      "Epoch 198/200\n",
      "----------\n",
      "Train) Loss: 0.0075 Acc: 0.9944\n",
      "Epoch 199/200\n",
      "----------\n",
      "Train) Loss: 0.0042 Acc: 1.0000\n",
      "Epoch 200/200\n",
      "----------\n",
      "Train) Loss: 0.0101 Acc: 0.9944\n"
     ]
    }
   ],
   "source": [
    "for epoch in range(num_epochs):  # loop over the dataset multiple times\n",
    "    print('Epoch {}/{}'.format(epoch, num_epochs - 1))\n",
    "    print('-' * 10)\n",
    "\n",
    "    running_corrects = 0.0\n",
    "    running_loss = 0.0\n",
    "    task2_model.train()  # Set model to training mode\n",
    "    for i, data in enumerate(task2_train_dataloader, 0):\n",
    "        # get the inputs; data is a list of [inputs, labels]\n",
    "        inputs, labels = data\n",
    "        inputs, labels = inputs.float(), labels.long()\n",
    "\n",
    "        # zero the parameter gradients\n",
    "        optimizer.zero_grad()\n",
    "\n",
    "        # forward + backward + optimize\n",
    "        outputs = task2_model(inputs)\n",
    "        _, preds = torch.max(outputs, 1)\n",
    "\n",
    "        loss = criterion(outputs, labels)\n",
    "        loss.backward()\n",
    "        optimizer.step()\n",
    "\n",
    "        running_loss += loss.item() * inputs.size(0)\n",
    "        running_corrects += torch.sum(preds == labels.data)\n",
    "\n",
    "    epoch_loss = running_loss / train_size\n",
    "    epoch_acc = running_corrects.double() / train_size\n",
    "    train_loss.append(epoch_loss)\n",
    "    train_accuracy.append(epoch_acc)\n",
    "\n",
    "    print('Train) Loss: {:.4f} Acc: {:.4f}'.format(epoch_loss, epoch_acc))\n",
    "\n",
    "    # task2_model.eval()\n",
    "    # with torch.no_grad():\n",
    "    #     val_loss = 0.0\n",
    "    #     val_corrects = 0\n",
    "    #     for j, val in enumerate(task2_test_dataloader, 0):\n",
    "    #         val_x, val_label = val\n",
    "    #         val_x, val_label = val_x.float(), val_label.long()\n",
    "    #         val_outputs = task2_model(val_x)\n",
    "    #         _, val_preds = torch.max(val_outputs, 1)\n",
    "    #         v_loss = criterion(val_outputs, val_label)\n",
    "    #         val_loss += (v_loss.item() * val_x.size(0))\n",
    "    #         val_corrects += torch.sum(val_preds == val_label.data).double()\n",
    "    #     print(\"Validation) Acc: {:.4f} \".format(val_corrects/test_size))\n",
    "    #     val_corrects_list.append(val_corrects/test_size)\n",
    "    #     val_loss_list.append(val_loss/test_size)\n",
    "\n",
    "    if epoch_loss < best_acc:\n",
    "        # print(\"prev_loss: {:.5f}\".format(prev_loss))\n",
    "        # print(\"loss: {:.5f}\".format(loss))\n",
    "        print(\"Saving the best model w/ loss {:.4f}\".format(epoch_loss))\n",
    "        torch.save(task2_model.state_dict(),PATH)\n",
    "        best_acc = epoch_loss"
   ]
  },
  {
   "cell_type": "code",
   "execution_count": 120,
   "metadata": {},
   "outputs": [
    {
     "output_type": "display_data",
     "data": {
      "text/plain": "<Figure size 864x576 with 2 Axes>",
      "image/svg+xml": "<?xml version=\"1.0\" encoding=\"utf-8\" standalone=\"no\"?>\n<!DOCTYPE svg PUBLIC \"-//W3C//DTD SVG 1.1//EN\"\n  \"http://www.w3.org/Graphics/SVG/1.1/DTD/svg11.dtd\">\n<!-- Created with matplotlib (https://matplotlib.org/) -->\n<svg height=\"567.59625pt\" version=\"1.1\" viewBox=\"0 0 856.373437 567.59625\" width=\"856.373437pt\" xmlns=\"http://www.w3.org/2000/svg\" xmlns:xlink=\"http://www.w3.org/1999/xlink\">\n <metadata>\n  <rdf:RDF xmlns:cc=\"http://creativecommons.org/ns#\" xmlns:dc=\"http://purl.org/dc/elements/1.1/\" xmlns:rdf=\"http://www.w3.org/1999/02/22-rdf-syntax-ns#\">\n   <cc:Work>\n    <dc:type rdf:resource=\"http://purl.org/dc/dcmitype/StillImage\"/>\n    <dc:date>2020-12-15T23:12:50.578010</dc:date>\n    <dc:format>image/svg+xml</dc:format>\n    <dc:creator>\n     <cc:Agent>\n      <dc:title>Matplotlib v3.3.2, https://matplotlib.org/</dc:title>\n     </cc:Agent>\n    </dc:creator>\n   </cc:Work>\n  </rdf:RDF>\n </metadata>\n <defs>\n  <style type=\"text/css\">*{stroke-linecap:butt;stroke-linejoin:round;}</style>\n </defs>\n <g id=\"figure_1\">\n  <g id=\"patch_1\">\n   <path d=\"M 0 567.59625 \nL 856.373437 567.59625 \nL 856.373437 0 \nL 0 0 \nz\n\" style=\"fill:none;\"/>\n  </g>\n  <g id=\"axes_1\">\n   <g id=\"patch_2\">\n    <path d=\"M 58.523438 261.118125 \nL 849.173438 261.118125 \nL 849.173438 22.318125 \nL 58.523438 22.318125 \nz\n\" style=\"fill:#ffffff;\"/>\n   </g>\n   <g id=\"matplotlib.axis_1\">\n    <g id=\"xtick_1\">\n     <g id=\"line2d_1\">\n      <defs>\n       <path d=\"M 0 0 \nL 0 3.5 \n\" id=\"mcd5af1b54c\" style=\"stroke:#000000;stroke-width:0.8;\"/>\n      </defs>\n      <g>\n       <use style=\"stroke:#000000;stroke-width:0.8;\" x=\"94.462074\" xlink:href=\"#mcd5af1b54c\" y=\"261.118125\"/>\n      </g>\n     </g>\n     <g id=\"text_1\">\n      <!-- 0 -->\n      <g transform=\"translate(91.280824 275.716563)scale(0.1 -0.1)\">\n       <defs>\n        <path d=\"M 31.78125 66.40625 \nQ 24.171875 66.40625 20.328125 58.90625 \nQ 16.5 51.421875 16.5 36.375 \nQ 16.5 21.390625 20.328125 13.890625 \nQ 24.171875 6.390625 31.78125 6.390625 \nQ 39.453125 6.390625 43.28125 13.890625 \nQ 47.125 21.390625 47.125 36.375 \nQ 47.125 51.421875 43.28125 58.90625 \nQ 39.453125 66.40625 31.78125 66.40625 \nz\nM 31.78125 74.21875 \nQ 44.046875 74.21875 50.515625 64.515625 \nQ 56.984375 54.828125 56.984375 36.375 \nQ 56.984375 17.96875 50.515625 8.265625 \nQ 44.046875 -1.421875 31.78125 -1.421875 \nQ 19.53125 -1.421875 13.0625 8.265625 \nQ 6.59375 17.96875 6.59375 36.375 \nQ 6.59375 54.828125 13.0625 64.515625 \nQ 19.53125 74.21875 31.78125 74.21875 \nz\n\" id=\"DejaVuSans-48\"/>\n       </defs>\n       <use xlink:href=\"#DejaVuSans-48\"/>\n      </g>\n     </g>\n    </g>\n    <g id=\"xtick_2\">\n     <g id=\"line2d_2\">\n      <g>\n       <use style=\"stroke:#000000;stroke-width:0.8;\" x=\"184.308665\" xlink:href=\"#mcd5af1b54c\" y=\"261.118125\"/>\n      </g>\n     </g>\n     <g id=\"text_2\">\n      <!-- 25 -->\n      <g transform=\"translate(177.946165 275.716563)scale(0.1 -0.1)\">\n       <defs>\n        <path d=\"M 19.1875 8.296875 \nL 53.609375 8.296875 \nL 53.609375 0 \nL 7.328125 0 \nL 7.328125 8.296875 \nQ 12.9375 14.109375 22.625 23.890625 \nQ 32.328125 33.6875 34.8125 36.53125 \nQ 39.546875 41.84375 41.421875 45.53125 \nQ 43.3125 49.21875 43.3125 52.78125 \nQ 43.3125 58.59375 39.234375 62.25 \nQ 35.15625 65.921875 28.609375 65.921875 \nQ 23.96875 65.921875 18.8125 64.3125 \nQ 13.671875 62.703125 7.8125 59.421875 \nL 7.8125 69.390625 \nQ 13.765625 71.78125 18.9375 73 \nQ 24.125 74.21875 28.421875 74.21875 \nQ 39.75 74.21875 46.484375 68.546875 \nQ 53.21875 62.890625 53.21875 53.421875 \nQ 53.21875 48.921875 51.53125 44.890625 \nQ 49.859375 40.875 45.40625 35.40625 \nQ 44.1875 33.984375 37.640625 27.21875 \nQ 31.109375 20.453125 19.1875 8.296875 \nz\n\" id=\"DejaVuSans-50\"/>\n        <path d=\"M 10.796875 72.90625 \nL 49.515625 72.90625 \nL 49.515625 64.59375 \nL 19.828125 64.59375 \nL 19.828125 46.734375 \nQ 21.96875 47.46875 24.109375 47.828125 \nQ 26.265625 48.1875 28.421875 48.1875 \nQ 40.625 48.1875 47.75 41.5 \nQ 54.890625 34.8125 54.890625 23.390625 \nQ 54.890625 11.625 47.5625 5.09375 \nQ 40.234375 -1.421875 26.90625 -1.421875 \nQ 22.3125 -1.421875 17.546875 -0.640625 \nQ 12.796875 0.140625 7.71875 1.703125 \nL 7.71875 11.625 \nQ 12.109375 9.234375 16.796875 8.0625 \nQ 21.484375 6.890625 26.703125 6.890625 \nQ 35.15625 6.890625 40.078125 11.328125 \nQ 45.015625 15.765625 45.015625 23.390625 \nQ 45.015625 31 40.078125 35.4375 \nQ 35.15625 39.890625 26.703125 39.890625 \nQ 22.75 39.890625 18.8125 39.015625 \nQ 14.890625 38.140625 10.796875 36.28125 \nz\n\" id=\"DejaVuSans-53\"/>\n       </defs>\n       <use xlink:href=\"#DejaVuSans-50\"/>\n       <use x=\"63.623047\" xlink:href=\"#DejaVuSans-53\"/>\n      </g>\n     </g>\n    </g>\n    <g id=\"xtick_3\">\n     <g id=\"line2d_3\">\n      <g>\n       <use style=\"stroke:#000000;stroke-width:0.8;\" x=\"274.155256\" xlink:href=\"#mcd5af1b54c\" y=\"261.118125\"/>\n      </g>\n     </g>\n     <g id=\"text_3\">\n      <!-- 50 -->\n      <g transform=\"translate(267.792756 275.716563)scale(0.1 -0.1)\">\n       <use xlink:href=\"#DejaVuSans-53\"/>\n       <use x=\"63.623047\" xlink:href=\"#DejaVuSans-48\"/>\n      </g>\n     </g>\n    </g>\n    <g id=\"xtick_4\">\n     <g id=\"line2d_4\">\n      <g>\n       <use style=\"stroke:#000000;stroke-width:0.8;\" x=\"364.001847\" xlink:href=\"#mcd5af1b54c\" y=\"261.118125\"/>\n      </g>\n     </g>\n     <g id=\"text_4\">\n      <!-- 75 -->\n      <g transform=\"translate(357.639347 275.716563)scale(0.1 -0.1)\">\n       <defs>\n        <path d=\"M 8.203125 72.90625 \nL 55.078125 72.90625 \nL 55.078125 68.703125 \nL 28.609375 0 \nL 18.3125 0 \nL 43.21875 64.59375 \nL 8.203125 64.59375 \nz\n\" id=\"DejaVuSans-55\"/>\n       </defs>\n       <use xlink:href=\"#DejaVuSans-55\"/>\n       <use x=\"63.623047\" xlink:href=\"#DejaVuSans-53\"/>\n      </g>\n     </g>\n    </g>\n    <g id=\"xtick_5\">\n     <g id=\"line2d_5\">\n      <g>\n       <use style=\"stroke:#000000;stroke-width:0.8;\" x=\"453.848438\" xlink:href=\"#mcd5af1b54c\" y=\"261.118125\"/>\n      </g>\n     </g>\n     <g id=\"text_5\">\n      <!-- 100 -->\n      <g transform=\"translate(444.304688 275.716563)scale(0.1 -0.1)\">\n       <defs>\n        <path d=\"M 12.40625 8.296875 \nL 28.515625 8.296875 \nL 28.515625 63.921875 \nL 10.984375 60.40625 \nL 10.984375 69.390625 \nL 28.421875 72.90625 \nL 38.28125 72.90625 \nL 38.28125 8.296875 \nL 54.390625 8.296875 \nL 54.390625 0 \nL 12.40625 0 \nz\n\" id=\"DejaVuSans-49\"/>\n       </defs>\n       <use xlink:href=\"#DejaVuSans-49\"/>\n       <use x=\"63.623047\" xlink:href=\"#DejaVuSans-48\"/>\n       <use x=\"127.246094\" xlink:href=\"#DejaVuSans-48\"/>\n      </g>\n     </g>\n    </g>\n    <g id=\"xtick_6\">\n     <g id=\"line2d_6\">\n      <g>\n       <use style=\"stroke:#000000;stroke-width:0.8;\" x=\"543.695028\" xlink:href=\"#mcd5af1b54c\" y=\"261.118125\"/>\n      </g>\n     </g>\n     <g id=\"text_6\">\n      <!-- 125 -->\n      <g transform=\"translate(534.151278 275.716563)scale(0.1 -0.1)\">\n       <use xlink:href=\"#DejaVuSans-49\"/>\n       <use x=\"63.623047\" xlink:href=\"#DejaVuSans-50\"/>\n       <use x=\"127.246094\" xlink:href=\"#DejaVuSans-53\"/>\n      </g>\n     </g>\n    </g>\n    <g id=\"xtick_7\">\n     <g id=\"line2d_7\">\n      <g>\n       <use style=\"stroke:#000000;stroke-width:0.8;\" x=\"633.541619\" xlink:href=\"#mcd5af1b54c\" y=\"261.118125\"/>\n      </g>\n     </g>\n     <g id=\"text_7\">\n      <!-- 150 -->\n      <g transform=\"translate(623.997869 275.716563)scale(0.1 -0.1)\">\n       <use xlink:href=\"#DejaVuSans-49\"/>\n       <use x=\"63.623047\" xlink:href=\"#DejaVuSans-53\"/>\n       <use x=\"127.246094\" xlink:href=\"#DejaVuSans-48\"/>\n      </g>\n     </g>\n    </g>\n    <g id=\"xtick_8\">\n     <g id=\"line2d_8\">\n      <g>\n       <use style=\"stroke:#000000;stroke-width:0.8;\" x=\"723.38821\" xlink:href=\"#mcd5af1b54c\" y=\"261.118125\"/>\n      </g>\n     </g>\n     <g id=\"text_8\">\n      <!-- 175 -->\n      <g transform=\"translate(713.84446 275.716563)scale(0.1 -0.1)\">\n       <use xlink:href=\"#DejaVuSans-49\"/>\n       <use x=\"63.623047\" xlink:href=\"#DejaVuSans-55\"/>\n       <use x=\"127.246094\" xlink:href=\"#DejaVuSans-53\"/>\n      </g>\n     </g>\n    </g>\n    <g id=\"xtick_9\">\n     <g id=\"line2d_9\">\n      <g>\n       <use style=\"stroke:#000000;stroke-width:0.8;\" x=\"813.234801\" xlink:href=\"#mcd5af1b54c\" y=\"261.118125\"/>\n      </g>\n     </g>\n     <g id=\"text_9\">\n      <!-- 200 -->\n      <g transform=\"translate(803.691051 275.716563)scale(0.1 -0.1)\">\n       <use xlink:href=\"#DejaVuSans-50\"/>\n       <use x=\"63.623047\" xlink:href=\"#DejaVuSans-48\"/>\n       <use x=\"127.246094\" xlink:href=\"#DejaVuSans-48\"/>\n      </g>\n     </g>\n    </g>\n   </g>\n   <g id=\"matplotlib.axis_2\">\n    <g id=\"ytick_1\">\n     <g id=\"line2d_10\">\n      <defs>\n       <path d=\"M 0 0 \nL -3.5 0 \n\" id=\"mf2c91dd214\" style=\"stroke:#000000;stroke-width:0.8;\"/>\n      </defs>\n      <g>\n       <use style=\"stroke:#000000;stroke-width:0.8;\" x=\"58.523438\" xlink:href=\"#mf2c91dd214\" y=\"250.411555\"/>\n      </g>\n     </g>\n     <g id=\"text_10\">\n      <!-- 0.0 -->\n      <g transform=\"translate(35.620313 254.210774)scale(0.1 -0.1)\">\n       <defs>\n        <path d=\"M 10.6875 12.40625 \nL 21 12.40625 \nL 21 0 \nL 10.6875 0 \nz\n\" id=\"DejaVuSans-46\"/>\n       </defs>\n       <use xlink:href=\"#DejaVuSans-48\"/>\n       <use x=\"63.623047\" xlink:href=\"#DejaVuSans-46\"/>\n       <use x=\"95.410156\" xlink:href=\"#DejaVuSans-48\"/>\n      </g>\n     </g>\n    </g>\n    <g id=\"ytick_2\">\n     <g id=\"line2d_11\">\n      <g>\n       <use style=\"stroke:#000000;stroke-width:0.8;\" x=\"58.523438\" xlink:href=\"#mf2c91dd214\" y=\"206.069878\"/>\n      </g>\n     </g>\n     <g id=\"text_11\">\n      <!-- 0.2 -->\n      <g transform=\"translate(35.620313 209.869097)scale(0.1 -0.1)\">\n       <use xlink:href=\"#DejaVuSans-48\"/>\n       <use x=\"63.623047\" xlink:href=\"#DejaVuSans-46\"/>\n       <use x=\"95.410156\" xlink:href=\"#DejaVuSans-50\"/>\n      </g>\n     </g>\n    </g>\n    <g id=\"ytick_3\">\n     <g id=\"line2d_12\">\n      <g>\n       <use style=\"stroke:#000000;stroke-width:0.8;\" x=\"58.523438\" xlink:href=\"#mf2c91dd214\" y=\"161.7282\"/>\n      </g>\n     </g>\n     <g id=\"text_12\">\n      <!-- 0.4 -->\n      <g transform=\"translate(35.620313 165.527419)scale(0.1 -0.1)\">\n       <defs>\n        <path d=\"M 37.796875 64.3125 \nL 12.890625 25.390625 \nL 37.796875 25.390625 \nz\nM 35.203125 72.90625 \nL 47.609375 72.90625 \nL 47.609375 25.390625 \nL 58.015625 25.390625 \nL 58.015625 17.1875 \nL 47.609375 17.1875 \nL 47.609375 0 \nL 37.796875 0 \nL 37.796875 17.1875 \nL 4.890625 17.1875 \nL 4.890625 26.703125 \nz\n\" id=\"DejaVuSans-52\"/>\n       </defs>\n       <use xlink:href=\"#DejaVuSans-48\"/>\n       <use x=\"63.623047\" xlink:href=\"#DejaVuSans-46\"/>\n       <use x=\"95.410156\" xlink:href=\"#DejaVuSans-52\"/>\n      </g>\n     </g>\n    </g>\n    <g id=\"ytick_4\">\n     <g id=\"line2d_13\">\n      <g>\n       <use style=\"stroke:#000000;stroke-width:0.8;\" x=\"58.523438\" xlink:href=\"#mf2c91dd214\" y=\"117.386523\"/>\n      </g>\n     </g>\n     <g id=\"text_13\">\n      <!-- 0.6 -->\n      <g transform=\"translate(35.620313 121.185742)scale(0.1 -0.1)\">\n       <defs>\n        <path d=\"M 33.015625 40.375 \nQ 26.375 40.375 22.484375 35.828125 \nQ 18.609375 31.296875 18.609375 23.390625 \nQ 18.609375 15.53125 22.484375 10.953125 \nQ 26.375 6.390625 33.015625 6.390625 \nQ 39.65625 6.390625 43.53125 10.953125 \nQ 47.40625 15.53125 47.40625 23.390625 \nQ 47.40625 31.296875 43.53125 35.828125 \nQ 39.65625 40.375 33.015625 40.375 \nz\nM 52.59375 71.296875 \nL 52.59375 62.3125 \nQ 48.875 64.0625 45.09375 64.984375 \nQ 41.3125 65.921875 37.59375 65.921875 \nQ 27.828125 65.921875 22.671875 59.328125 \nQ 17.53125 52.734375 16.796875 39.40625 \nQ 19.671875 43.65625 24.015625 45.921875 \nQ 28.375 48.1875 33.59375 48.1875 \nQ 44.578125 48.1875 50.953125 41.515625 \nQ 57.328125 34.859375 57.328125 23.390625 \nQ 57.328125 12.15625 50.6875 5.359375 \nQ 44.046875 -1.421875 33.015625 -1.421875 \nQ 20.359375 -1.421875 13.671875 8.265625 \nQ 6.984375 17.96875 6.984375 36.375 \nQ 6.984375 53.65625 15.1875 63.9375 \nQ 23.390625 74.21875 37.203125 74.21875 \nQ 40.921875 74.21875 44.703125 73.484375 \nQ 48.484375 72.75 52.59375 71.296875 \nz\n\" id=\"DejaVuSans-54\"/>\n       </defs>\n       <use xlink:href=\"#DejaVuSans-48\"/>\n       <use x=\"63.623047\" xlink:href=\"#DejaVuSans-46\"/>\n       <use x=\"95.410156\" xlink:href=\"#DejaVuSans-54\"/>\n      </g>\n     </g>\n    </g>\n    <g id=\"ytick_5\">\n     <g id=\"line2d_14\">\n      <g>\n       <use style=\"stroke:#000000;stroke-width:0.8;\" x=\"58.523438\" xlink:href=\"#mf2c91dd214\" y=\"73.044845\"/>\n      </g>\n     </g>\n     <g id=\"text_14\">\n      <!-- 0.8 -->\n      <g transform=\"translate(35.620313 76.844064)scale(0.1 -0.1)\">\n       <defs>\n        <path d=\"M 31.78125 34.625 \nQ 24.75 34.625 20.71875 30.859375 \nQ 16.703125 27.09375 16.703125 20.515625 \nQ 16.703125 13.921875 20.71875 10.15625 \nQ 24.75 6.390625 31.78125 6.390625 \nQ 38.8125 6.390625 42.859375 10.171875 \nQ 46.921875 13.96875 46.921875 20.515625 \nQ 46.921875 27.09375 42.890625 30.859375 \nQ 38.875 34.625 31.78125 34.625 \nz\nM 21.921875 38.8125 \nQ 15.578125 40.375 12.03125 44.71875 \nQ 8.5 49.078125 8.5 55.328125 \nQ 8.5 64.0625 14.71875 69.140625 \nQ 20.953125 74.21875 31.78125 74.21875 \nQ 42.671875 74.21875 48.875 69.140625 \nQ 55.078125 64.0625 55.078125 55.328125 \nQ 55.078125 49.078125 51.53125 44.71875 \nQ 48 40.375 41.703125 38.8125 \nQ 48.828125 37.15625 52.796875 32.3125 \nQ 56.78125 27.484375 56.78125 20.515625 \nQ 56.78125 9.90625 50.3125 4.234375 \nQ 43.84375 -1.421875 31.78125 -1.421875 \nQ 19.734375 -1.421875 13.25 4.234375 \nQ 6.78125 9.90625 6.78125 20.515625 \nQ 6.78125 27.484375 10.78125 32.3125 \nQ 14.796875 37.15625 21.921875 38.8125 \nz\nM 18.3125 54.390625 \nQ 18.3125 48.734375 21.84375 45.5625 \nQ 25.390625 42.390625 31.78125 42.390625 \nQ 38.140625 42.390625 41.71875 45.5625 \nQ 45.3125 48.734375 45.3125 54.390625 \nQ 45.3125 60.0625 41.71875 63.234375 \nQ 38.140625 66.40625 31.78125 66.40625 \nQ 25.390625 66.40625 21.84375 63.234375 \nQ 18.3125 60.0625 18.3125 54.390625 \nz\n\" id=\"DejaVuSans-56\"/>\n       </defs>\n       <use xlink:href=\"#DejaVuSans-48\"/>\n       <use x=\"63.623047\" xlink:href=\"#DejaVuSans-46\"/>\n       <use x=\"95.410156\" xlink:href=\"#DejaVuSans-56\"/>\n      </g>\n     </g>\n    </g>\n    <g id=\"ytick_6\">\n     <g id=\"line2d_15\">\n      <g>\n       <use style=\"stroke:#000000;stroke-width:0.8;\" x=\"58.523438\" xlink:href=\"#mf2c91dd214\" y=\"28.703168\"/>\n      </g>\n     </g>\n     <g id=\"text_15\">\n      <!-- 1.0 -->\n      <g transform=\"translate(35.620313 32.502387)scale(0.1 -0.1)\">\n       <use xlink:href=\"#DejaVuSans-49\"/>\n       <use x=\"63.623047\" xlink:href=\"#DejaVuSans-46\"/>\n       <use x=\"95.410156\" xlink:href=\"#DejaVuSans-48\"/>\n      </g>\n     </g>\n    </g>\n    <g id=\"text_16\">\n     <!-- Loss -->\n     <g transform=\"translate(29.540625 152.685313)rotate(-90)scale(0.1 -0.1)\">\n      <defs>\n       <path d=\"M 9.8125 72.90625 \nL 19.671875 72.90625 \nL 19.671875 8.296875 \nL 55.171875 8.296875 \nL 55.171875 0 \nL 9.8125 0 \nz\n\" id=\"DejaVuSans-76\"/>\n       <path d=\"M 30.609375 48.390625 \nQ 23.390625 48.390625 19.1875 42.75 \nQ 14.984375 37.109375 14.984375 27.296875 \nQ 14.984375 17.484375 19.15625 11.84375 \nQ 23.34375 6.203125 30.609375 6.203125 \nQ 37.796875 6.203125 41.984375 11.859375 \nQ 46.1875 17.53125 46.1875 27.296875 \nQ 46.1875 37.015625 41.984375 42.703125 \nQ 37.796875 48.390625 30.609375 48.390625 \nz\nM 30.609375 56 \nQ 42.328125 56 49.015625 48.375 \nQ 55.71875 40.765625 55.71875 27.296875 \nQ 55.71875 13.875 49.015625 6.21875 \nQ 42.328125 -1.421875 30.609375 -1.421875 \nQ 18.84375 -1.421875 12.171875 6.21875 \nQ 5.515625 13.875 5.515625 27.296875 \nQ 5.515625 40.765625 12.171875 48.375 \nQ 18.84375 56 30.609375 56 \nz\n\" id=\"DejaVuSans-111\"/>\n       <path d=\"M 44.28125 53.078125 \nL 44.28125 44.578125 \nQ 40.484375 46.53125 36.375 47.5 \nQ 32.28125 48.484375 27.875 48.484375 \nQ 21.1875 48.484375 17.84375 46.4375 \nQ 14.5 44.390625 14.5 40.28125 \nQ 14.5 37.15625 16.890625 35.375 \nQ 19.28125 33.59375 26.515625 31.984375 \nL 29.59375 31.296875 \nQ 39.15625 29.25 43.1875 25.515625 \nQ 47.21875 21.78125 47.21875 15.09375 \nQ 47.21875 7.46875 41.1875 3.015625 \nQ 35.15625 -1.421875 24.609375 -1.421875 \nQ 20.21875 -1.421875 15.453125 -0.5625 \nQ 10.6875 0.296875 5.421875 2 \nL 5.421875 11.28125 \nQ 10.40625 8.6875 15.234375 7.390625 \nQ 20.0625 6.109375 24.8125 6.109375 \nQ 31.15625 6.109375 34.5625 8.28125 \nQ 37.984375 10.453125 37.984375 14.40625 \nQ 37.984375 18.0625 35.515625 20.015625 \nQ 33.0625 21.96875 24.703125 23.78125 \nL 21.578125 24.515625 \nQ 13.234375 26.265625 9.515625 29.90625 \nQ 5.8125 33.546875 5.8125 39.890625 \nQ 5.8125 47.609375 11.28125 51.796875 \nQ 16.75 56 26.8125 56 \nQ 31.78125 56 36.171875 55.265625 \nQ 40.578125 54.546875 44.28125 53.078125 \nz\n\" id=\"DejaVuSans-115\"/>\n      </defs>\n      <use xlink:href=\"#DejaVuSans-76\"/>\n      <use x=\"53.962891\" xlink:href=\"#DejaVuSans-111\"/>\n      <use x=\"115.144531\" xlink:href=\"#DejaVuSans-115\"/>\n      <use x=\"167.244141\" xlink:href=\"#DejaVuSans-115\"/>\n     </g>\n    </g>\n   </g>\n   <g id=\"line2d_16\">\n    <path clip-path=\"url(#pa1ef952229)\" d=\"M 94.462074 33.17267 \nL 98.055938 84.980731 \nL 101.649801 108.196472 \nL 105.243665 115.007923 \nL 108.837528 130.309197 \nL 112.431392 126.448611 \nL 116.025256 145.456042 \nL 119.619119 153.009617 \nL 123.212983 174.010455 \nL 126.806847 189.047693 \nL 130.40071 191.238364 \nL 133.994574 151.446601 \nL 137.588438 174.761422 \nL 141.182301 195.898473 \nL 144.776165 205.632655 \nL 148.370028 211.191753 \nL 151.963892 210.502677 \nL 155.557756 207.299698 \nL 159.151619 200.855455 \nL 162.745483 217.557016 \nL 166.339347 223.170929 \nL 169.93321 199.336551 \nL 173.527074 215.706522 \nL 177.120938 207.882358 \nL 180.714801 195.045632 \nL 184.308665 218.239798 \nL 187.902528 211.9966 \nL 191.496392 200.276785 \nL 195.090256 210.240285 \nL 198.684119 205.507354 \nL 202.277983 221.222677 \nL 205.871847 202.966568 \nL 209.46571 194.97726 \nL 213.059574 221.780085 \nL 216.653438 225.714713 \nL 220.247301 229.191825 \nL 223.841165 213.825381 \nL 227.435028 227.116252 \nL 231.028892 222.765476 \nL 234.622756 217.14732 \nL 238.216619 214.13801 \nL 241.810483 228.131312 \nL 245.404347 225.583834 \nL 248.99821 229.889109 \nL 252.592074 211.260759 \nL 256.185938 217.644197 \nL 259.779801 231.908616 \nL 263.373665 221.35438 \nL 266.967528 230.805701 \nL 270.561392 224.068425 \nL 274.155256 223.006109 \nL 277.749119 231.668584 \nL 281.342983 238.480522 \nL 284.936847 235.896671 \nL 288.53071 226.500403 \nL 292.124574 232.701497 \nL 295.718438 232.497424 \nL 299.312301 236.943618 \nL 302.906165 232.203318 \nL 306.500028 233.261795 \nL 310.093892 240.355102 \nL 313.687756 240.599649 \nL 317.281619 231.398308 \nL 320.875483 215.191463 \nL 324.469347 240.471474 \nL 328.06321 237.508532 \nL 331.657074 245.827419 \nL 335.250938 240.26924 \nL 338.844801 240.923517 \nL 342.438665 244.092998 \nL 346.032528 245.767156 \nL 349.626392 217.723996 \nL 353.220256 232.822629 \nL 356.814119 238.575382 \nL 360.407983 221.306913 \nL 364.001847 229.853988 \nL 367.59571 236.584457 \nL 371.189574 245.641353 \nL 374.783438 238.278199 \nL 378.377301 247.001976 \nL 381.971165 245.186375 \nL 385.565028 246.305463 \nL 389.158892 247.193178 \nL 392.752756 247.483778 \nL 396.346619 234.015691 \nL 399.940483 229.263582 \nL 403.534347 228.133007 \nL 407.12821 238.551331 \nL 410.722074 239.20311 \nL 414.315938 243.022831 \nL 417.909801 246.677156 \nL 421.503665 245.276858 \nL 425.097528 247.466999 \nL 428.691392 230.459261 \nL 432.285256 217.41165 \nL 435.879119 240.927964 \nL 439.472983 245.682334 \nL 446.66071 244.564426 \nL 450.254574 230.870728 \nL 453.848438 235.236701 \nL 457.442301 231.122848 \nL 461.036165 230.470833 \nL 464.630028 244.429261 \nL 468.223892 249.170131 \nL 471.817756 248.013894 \nL 475.411619 248.558399 \nL 479.005483 249.655506 \nL 482.599347 249.929149 \nL 486.19321 249.550861 \nL 489.787074 248.12362 \nL 493.380938 249.837644 \nL 496.974801 248.374961 \nL 500.568665 243.221101 \nL 504.162528 231.166575 \nL 507.756392 245.298986 \nL 511.350256 241.232512 \nL 514.944119 237.724816 \nL 518.537983 210.957047 \nL 522.131847 243.349592 \nL 525.72571 246.311823 \nL 529.319574 246.058773 \nL 532.913438 248.643714 \nL 536.507301 249.409759 \nL 543.695028 248.505672 \nL 547.288892 249.32302 \nL 550.882756 249.432366 \nL 554.476619 249.676495 \nL 558.070483 250.26358 \nL 565.25821 250.167904 \nL 568.852074 243.312 \nL 572.445938 248.956683 \nL 576.039801 227.588757 \nL 579.633665 189.044088 \nL 583.227528 225.540491 \nL 586.821392 234.084702 \nL 590.415256 245.437124 \nL 594.009119 246.569852 \nL 597.602983 247.169926 \nL 601.196847 245.944038 \nL 604.79071 246.798298 \nL 608.384574 249.136089 \nL 611.978438 241.089435 \nL 615.572301 242.451454 \nL 619.166165 249.625627 \nL 622.760028 249.939968 \nL 626.353892 249.974812 \nL 629.947756 249.338837 \nL 633.541619 248.924024 \nL 637.135483 228.773705 \nL 640.729347 227.506377 \nL 644.32321 225.280396 \nL 647.917074 237.528485 \nL 651.510938 242.265055 \nL 655.104801 241.629155 \nL 658.698665 248.399398 \nL 662.292528 248.052985 \nL 665.886392 249.099732 \nL 669.480256 246.575297 \nL 673.074119 249.636678 \nL 676.667983 249.684168 \nL 680.261847 247.195682 \nL 683.85571 249.777311 \nL 687.449574 248.488667 \nL 691.043438 250.07219 \nL 694.637301 248.984917 \nL 698.231165 249.122288 \nL 701.825028 249.895251 \nL 705.418892 250.242597 \nL 709.012756 249.648987 \nL 712.606619 249.706929 \nL 716.200483 250.02855 \nL 719.794347 248.378363 \nL 723.38821 242.661678 \nL 726.982074 218.799757 \nL 730.575938 239.676439 \nL 734.169801 241.255155 \nL 737.763665 249.538196 \nL 741.357528 250.185399 \nL 744.951392 249.984714 \nL 748.545256 248.996397 \nL 752.139119 246.297805 \nL 755.732983 245.305622 \nL 759.326847 249.927869 \nL 762.92071 250.066072 \nL 766.514574 250.015544 \nL 770.108438 250.140501 \nL 773.702301 248.010018 \nL 777.296165 223.335886 \nL 780.890028 230.375894 \nL 784.483892 222.491088 \nL 788.077756 241.719555 \nL 791.671619 245.15605 \nL 795.265483 246.091136 \nL 798.859347 248.119836 \nL 802.45321 247.15567 \nL 806.047074 248.748902 \nL 809.640938 249.477981 \nL 813.234801 248.170703 \nL 813.234801 248.170703 \n\" style=\"fill:none;stroke:#1f77b4;stroke-linecap:square;stroke-width:1.5;\"/>\n   </g>\n   <g id=\"patch_3\">\n    <path d=\"M 58.523438 261.118125 \nL 58.523438 22.318125 \n\" style=\"fill:none;stroke:#000000;stroke-linecap:square;stroke-linejoin:miter;stroke-width:0.8;\"/>\n   </g>\n   <g id=\"patch_4\">\n    <path d=\"M 849.173438 261.118125 \nL 849.173438 22.318125 \n\" style=\"fill:none;stroke:#000000;stroke-linecap:square;stroke-linejoin:miter;stroke-width:0.8;\"/>\n   </g>\n   <g id=\"patch_5\">\n    <path d=\"M 58.523438 261.118125 \nL 849.173438 261.118125 \n\" style=\"fill:none;stroke:#000000;stroke-linecap:square;stroke-linejoin:miter;stroke-width:0.8;\"/>\n   </g>\n   <g id=\"patch_6\">\n    <path d=\"M 58.523438 22.318125 \nL 849.173438 22.318125 \n\" style=\"fill:none;stroke:#000000;stroke-linecap:square;stroke-linejoin:miter;stroke-width:0.8;\"/>\n   </g>\n   <g id=\"text_17\">\n    <!-- Training Loss -->\n    <g transform=\"translate(415.11 16.318125)scale(0.12 -0.12)\">\n     <defs>\n      <path d=\"M -0.296875 72.90625 \nL 61.375 72.90625 \nL 61.375 64.59375 \nL 35.5 64.59375 \nL 35.5 0 \nL 25.59375 0 \nL 25.59375 64.59375 \nL -0.296875 64.59375 \nz\n\" id=\"DejaVuSans-84\"/>\n      <path d=\"M 41.109375 46.296875 \nQ 39.59375 47.171875 37.8125 47.578125 \nQ 36.03125 48 33.890625 48 \nQ 26.265625 48 22.1875 43.046875 \nQ 18.109375 38.09375 18.109375 28.8125 \nL 18.109375 0 \nL 9.078125 0 \nL 9.078125 54.6875 \nL 18.109375 54.6875 \nL 18.109375 46.1875 \nQ 20.953125 51.171875 25.484375 53.578125 \nQ 30.03125 56 36.53125 56 \nQ 37.453125 56 38.578125 55.875 \nQ 39.703125 55.765625 41.0625 55.515625 \nz\n\" id=\"DejaVuSans-114\"/>\n      <path d=\"M 34.28125 27.484375 \nQ 23.390625 27.484375 19.1875 25 \nQ 14.984375 22.515625 14.984375 16.5 \nQ 14.984375 11.71875 18.140625 8.90625 \nQ 21.296875 6.109375 26.703125 6.109375 \nQ 34.1875 6.109375 38.703125 11.40625 \nQ 43.21875 16.703125 43.21875 25.484375 \nL 43.21875 27.484375 \nz\nM 52.203125 31.203125 \nL 52.203125 0 \nL 43.21875 0 \nL 43.21875 8.296875 \nQ 40.140625 3.328125 35.546875 0.953125 \nQ 30.953125 -1.421875 24.3125 -1.421875 \nQ 15.921875 -1.421875 10.953125 3.296875 \nQ 6 8.015625 6 15.921875 \nQ 6 25.140625 12.171875 29.828125 \nQ 18.359375 34.515625 30.609375 34.515625 \nL 43.21875 34.515625 \nL 43.21875 35.40625 \nQ 43.21875 41.609375 39.140625 45 \nQ 35.0625 48.390625 27.6875 48.390625 \nQ 23 48.390625 18.546875 47.265625 \nQ 14.109375 46.140625 10.015625 43.890625 \nL 10.015625 52.203125 \nQ 14.9375 54.109375 19.578125 55.046875 \nQ 24.21875 56 28.609375 56 \nQ 40.484375 56 46.34375 49.84375 \nQ 52.203125 43.703125 52.203125 31.203125 \nz\n\" id=\"DejaVuSans-97\"/>\n      <path d=\"M 9.421875 54.6875 \nL 18.40625 54.6875 \nL 18.40625 0 \nL 9.421875 0 \nz\nM 9.421875 75.984375 \nL 18.40625 75.984375 \nL 18.40625 64.59375 \nL 9.421875 64.59375 \nz\n\" id=\"DejaVuSans-105\"/>\n      <path d=\"M 54.890625 33.015625 \nL 54.890625 0 \nL 45.90625 0 \nL 45.90625 32.71875 \nQ 45.90625 40.484375 42.875 44.328125 \nQ 39.84375 48.1875 33.796875 48.1875 \nQ 26.515625 48.1875 22.3125 43.546875 \nQ 18.109375 38.921875 18.109375 30.90625 \nL 18.109375 0 \nL 9.078125 0 \nL 9.078125 54.6875 \nL 18.109375 54.6875 \nL 18.109375 46.1875 \nQ 21.34375 51.125 25.703125 53.5625 \nQ 30.078125 56 35.796875 56 \nQ 45.21875 56 50.046875 50.171875 \nQ 54.890625 44.34375 54.890625 33.015625 \nz\n\" id=\"DejaVuSans-110\"/>\n      <path d=\"M 45.40625 27.984375 \nQ 45.40625 37.75 41.375 43.109375 \nQ 37.359375 48.484375 30.078125 48.484375 \nQ 22.859375 48.484375 18.828125 43.109375 \nQ 14.796875 37.75 14.796875 27.984375 \nQ 14.796875 18.265625 18.828125 12.890625 \nQ 22.859375 7.515625 30.078125 7.515625 \nQ 37.359375 7.515625 41.375 12.890625 \nQ 45.40625 18.265625 45.40625 27.984375 \nz\nM 54.390625 6.78125 \nQ 54.390625 -7.171875 48.1875 -13.984375 \nQ 42 -20.796875 29.203125 -20.796875 \nQ 24.46875 -20.796875 20.265625 -20.09375 \nQ 16.0625 -19.390625 12.109375 -17.921875 \nL 12.109375 -9.1875 \nQ 16.0625 -11.328125 19.921875 -12.34375 \nQ 23.78125 -13.375 27.78125 -13.375 \nQ 36.625 -13.375 41.015625 -8.765625 \nQ 45.40625 -4.15625 45.40625 5.171875 \nL 45.40625 9.625 \nQ 42.625 4.78125 38.28125 2.390625 \nQ 33.9375 0 27.875 0 \nQ 17.828125 0 11.671875 7.65625 \nQ 5.515625 15.328125 5.515625 27.984375 \nQ 5.515625 40.671875 11.671875 48.328125 \nQ 17.828125 56 27.875 56 \nQ 33.9375 56 38.28125 53.609375 \nQ 42.625 51.21875 45.40625 46.390625 \nL 45.40625 54.6875 \nL 54.390625 54.6875 \nz\n\" id=\"DejaVuSans-103\"/>\n      <path id=\"DejaVuSans-32\"/>\n     </defs>\n     <use xlink:href=\"#DejaVuSans-84\"/>\n     <use x=\"46.333984\" xlink:href=\"#DejaVuSans-114\"/>\n     <use x=\"87.447266\" xlink:href=\"#DejaVuSans-97\"/>\n     <use x=\"148.726562\" xlink:href=\"#DejaVuSans-105\"/>\n     <use x=\"176.509766\" xlink:href=\"#DejaVuSans-110\"/>\n     <use x=\"239.888672\" xlink:href=\"#DejaVuSans-105\"/>\n     <use x=\"267.671875\" xlink:href=\"#DejaVuSans-110\"/>\n     <use x=\"331.050781\" xlink:href=\"#DejaVuSans-103\"/>\n     <use x=\"394.527344\" xlink:href=\"#DejaVuSans-32\"/>\n     <use x=\"426.314453\" xlink:href=\"#DejaVuSans-76\"/>\n     <use x=\"480.277344\" xlink:href=\"#DejaVuSans-111\"/>\n     <use x=\"541.458984\" xlink:href=\"#DejaVuSans-115\"/>\n     <use x=\"593.558594\" xlink:href=\"#DejaVuSans-115\"/>\n    </g>\n   </g>\n  </g>\n  <g id=\"axes_2\">\n   <g id=\"patch_7\">\n    <path d=\"M 58.523438 543.718125 \nL 849.173438 543.718125 \nL 849.173438 304.918125 \nL 58.523438 304.918125 \nz\n\" style=\"fill:#ffffff;\"/>\n   </g>\n   <g id=\"matplotlib.axis_3\">\n    <g id=\"xtick_10\">\n     <g id=\"line2d_17\">\n      <g>\n       <use style=\"stroke:#000000;stroke-width:0.8;\" x=\"166.339347\" xlink:href=\"#mcd5af1b54c\" y=\"543.718125\"/>\n      </g>\n     </g>\n     <g id=\"text_18\">\n      <!-- −0.04 -->\n      <g transform=\"translate(151.01669 558.316563)scale(0.1 -0.1)\">\n       <defs>\n        <path d=\"M 10.59375 35.5 \nL 73.1875 35.5 \nL 73.1875 27.203125 \nL 10.59375 27.203125 \nz\n\" id=\"DejaVuSans-8722\"/>\n       </defs>\n       <use xlink:href=\"#DejaVuSans-8722\"/>\n       <use x=\"83.789062\" xlink:href=\"#DejaVuSans-48\"/>\n       <use x=\"147.412109\" xlink:href=\"#DejaVuSans-46\"/>\n       <use x=\"179.199219\" xlink:href=\"#DejaVuSans-48\"/>\n       <use x=\"242.822266\" xlink:href=\"#DejaVuSans-52\"/>\n      </g>\n     </g>\n    </g>\n    <g id=\"xtick_11\">\n     <g id=\"line2d_18\">\n      <g>\n       <use style=\"stroke:#000000;stroke-width:0.8;\" x=\"310.093892\" xlink:href=\"#mcd5af1b54c\" y=\"543.718125\"/>\n      </g>\n     </g>\n     <g id=\"text_19\">\n      <!-- −0.02 -->\n      <g transform=\"translate(294.771236 558.316563)scale(0.1 -0.1)\">\n       <use xlink:href=\"#DejaVuSans-8722\"/>\n       <use x=\"83.789062\" xlink:href=\"#DejaVuSans-48\"/>\n       <use x=\"147.412109\" xlink:href=\"#DejaVuSans-46\"/>\n       <use x=\"179.199219\" xlink:href=\"#DejaVuSans-48\"/>\n       <use x=\"242.822266\" xlink:href=\"#DejaVuSans-50\"/>\n      </g>\n     </g>\n    </g>\n    <g id=\"xtick_12\">\n     <g id=\"line2d_19\">\n      <g>\n       <use style=\"stroke:#000000;stroke-width:0.8;\" x=\"453.848438\" xlink:href=\"#mcd5af1b54c\" y=\"543.718125\"/>\n      </g>\n     </g>\n     <g id=\"text_20\">\n      <!-- 0.00 -->\n      <g transform=\"translate(442.715625 558.316563)scale(0.1 -0.1)\">\n       <use xlink:href=\"#DejaVuSans-48\"/>\n       <use x=\"63.623047\" xlink:href=\"#DejaVuSans-46\"/>\n       <use x=\"95.410156\" xlink:href=\"#DejaVuSans-48\"/>\n       <use x=\"159.033203\" xlink:href=\"#DejaVuSans-48\"/>\n      </g>\n     </g>\n    </g>\n    <g id=\"xtick_13\">\n     <g id=\"line2d_20\">\n      <g>\n       <use style=\"stroke:#000000;stroke-width:0.8;\" x=\"597.602983\" xlink:href=\"#mcd5af1b54c\" y=\"543.718125\"/>\n      </g>\n     </g>\n     <g id=\"text_21\">\n      <!-- 0.02 -->\n      <g transform=\"translate(586.47017 558.316563)scale(0.1 -0.1)\">\n       <use xlink:href=\"#DejaVuSans-48\"/>\n       <use x=\"63.623047\" xlink:href=\"#DejaVuSans-46\"/>\n       <use x=\"95.410156\" xlink:href=\"#DejaVuSans-48\"/>\n       <use x=\"159.033203\" xlink:href=\"#DejaVuSans-50\"/>\n      </g>\n     </g>\n    </g>\n    <g id=\"xtick_14\">\n     <g id=\"line2d_21\">\n      <g>\n       <use style=\"stroke:#000000;stroke-width:0.8;\" x=\"741.357528\" xlink:href=\"#mcd5af1b54c\" y=\"543.718125\"/>\n      </g>\n     </g>\n     <g id=\"text_22\">\n      <!-- 0.04 -->\n      <g transform=\"translate(730.224716 558.316563)scale(0.1 -0.1)\">\n       <use xlink:href=\"#DejaVuSans-48\"/>\n       <use x=\"63.623047\" xlink:href=\"#DejaVuSans-46\"/>\n       <use x=\"95.410156\" xlink:href=\"#DejaVuSans-48\"/>\n       <use x=\"159.033203\" xlink:href=\"#DejaVuSans-52\"/>\n      </g>\n     </g>\n    </g>\n   </g>\n   <g id=\"matplotlib.axis_4\">\n    <g id=\"ytick_7\">\n     <g id=\"line2d_22\">\n      <g>\n       <use style=\"stroke:#000000;stroke-width:0.8;\" x=\"58.523438\" xlink:href=\"#mf2c91dd214\" y=\"511.154489\"/>\n      </g>\n     </g>\n     <g id=\"text_23\">\n      <!-- −0.04 -->\n      <g transform=\"translate(20.878125 514.953707)scale(0.1 -0.1)\">\n       <use xlink:href=\"#DejaVuSans-8722\"/>\n       <use x=\"83.789062\" xlink:href=\"#DejaVuSans-48\"/>\n       <use x=\"147.412109\" xlink:href=\"#DejaVuSans-46\"/>\n       <use x=\"179.199219\" xlink:href=\"#DejaVuSans-48\"/>\n       <use x=\"242.822266\" xlink:href=\"#DejaVuSans-52\"/>\n      </g>\n     </g>\n    </g>\n    <g id=\"ytick_8\">\n     <g id=\"line2d_23\">\n      <g>\n       <use style=\"stroke:#000000;stroke-width:0.8;\" x=\"58.523438\" xlink:href=\"#mf2c91dd214\" y=\"467.736307\"/>\n      </g>\n     </g>\n     <g id=\"text_24\">\n      <!-- −0.02 -->\n      <g transform=\"translate(20.878125 471.535526)scale(0.1 -0.1)\">\n       <use xlink:href=\"#DejaVuSans-8722\"/>\n       <use x=\"83.789062\" xlink:href=\"#DejaVuSans-48\"/>\n       <use x=\"147.412109\" xlink:href=\"#DejaVuSans-46\"/>\n       <use x=\"179.199219\" xlink:href=\"#DejaVuSans-48\"/>\n       <use x=\"242.822266\" xlink:href=\"#DejaVuSans-50\"/>\n      </g>\n     </g>\n    </g>\n    <g id=\"ytick_9\">\n     <g id=\"line2d_24\">\n      <g>\n       <use style=\"stroke:#000000;stroke-width:0.8;\" x=\"58.523438\" xlink:href=\"#mf2c91dd214\" y=\"424.318125\"/>\n      </g>\n     </g>\n     <g id=\"text_25\">\n      <!-- 0.00 -->\n      <g transform=\"translate(29.257813 428.117344)scale(0.1 -0.1)\">\n       <use xlink:href=\"#DejaVuSans-48\"/>\n       <use x=\"63.623047\" xlink:href=\"#DejaVuSans-46\"/>\n       <use x=\"95.410156\" xlink:href=\"#DejaVuSans-48\"/>\n       <use x=\"159.033203\" xlink:href=\"#DejaVuSans-48\"/>\n      </g>\n     </g>\n    </g>\n    <g id=\"ytick_10\">\n     <g id=\"line2d_25\">\n      <g>\n       <use style=\"stroke:#000000;stroke-width:0.8;\" x=\"58.523438\" xlink:href=\"#mf2c91dd214\" y=\"380.899943\"/>\n      </g>\n     </g>\n     <g id=\"text_26\">\n      <!-- 0.02 -->\n      <g transform=\"translate(29.257813 384.699162)scale(0.1 -0.1)\">\n       <use xlink:href=\"#DejaVuSans-48\"/>\n       <use x=\"63.623047\" xlink:href=\"#DejaVuSans-46\"/>\n       <use x=\"95.410156\" xlink:href=\"#DejaVuSans-48\"/>\n       <use x=\"159.033203\" xlink:href=\"#DejaVuSans-50\"/>\n      </g>\n     </g>\n    </g>\n    <g id=\"ytick_11\">\n     <g id=\"line2d_26\">\n      <g>\n       <use style=\"stroke:#000000;stroke-width:0.8;\" x=\"58.523438\" xlink:href=\"#mf2c91dd214\" y=\"337.481761\"/>\n      </g>\n     </g>\n     <g id=\"text_27\">\n      <!-- 0.04 -->\n      <g transform=\"translate(29.257813 341.28098)scale(0.1 -0.1)\">\n       <use xlink:href=\"#DejaVuSans-48\"/>\n       <use x=\"63.623047\" xlink:href=\"#DejaVuSans-46\"/>\n       <use x=\"95.410156\" xlink:href=\"#DejaVuSans-48\"/>\n       <use x=\"159.033203\" xlink:href=\"#DejaVuSans-52\"/>\n      </g>\n     </g>\n    </g>\n    <g id=\"text_28\">\n     <!-- Classification Accuracy -->\n     <g transform=\"translate(14.798438 481.818125)rotate(-90)scale(0.1 -0.1)\">\n      <defs>\n       <path d=\"M 64.40625 67.28125 \nL 64.40625 56.890625 \nQ 59.421875 61.53125 53.78125 63.8125 \nQ 48.140625 66.109375 41.796875 66.109375 \nQ 29.296875 66.109375 22.65625 58.46875 \nQ 16.015625 50.828125 16.015625 36.375 \nQ 16.015625 21.96875 22.65625 14.328125 \nQ 29.296875 6.6875 41.796875 6.6875 \nQ 48.140625 6.6875 53.78125 8.984375 \nQ 59.421875 11.28125 64.40625 15.921875 \nL 64.40625 5.609375 \nQ 59.234375 2.09375 53.4375 0.328125 \nQ 47.65625 -1.421875 41.21875 -1.421875 \nQ 24.65625 -1.421875 15.125 8.703125 \nQ 5.609375 18.84375 5.609375 36.375 \nQ 5.609375 53.953125 15.125 64.078125 \nQ 24.65625 74.21875 41.21875 74.21875 \nQ 47.75 74.21875 53.53125 72.484375 \nQ 59.328125 70.75 64.40625 67.28125 \nz\n\" id=\"DejaVuSans-67\"/>\n       <path d=\"M 9.421875 75.984375 \nL 18.40625 75.984375 \nL 18.40625 0 \nL 9.421875 0 \nz\n\" id=\"DejaVuSans-108\"/>\n       <path d=\"M 37.109375 75.984375 \nL 37.109375 68.5 \nL 28.515625 68.5 \nQ 23.6875 68.5 21.796875 66.546875 \nQ 19.921875 64.59375 19.921875 59.515625 \nL 19.921875 54.6875 \nL 34.71875 54.6875 \nL 34.71875 47.703125 \nL 19.921875 47.703125 \nL 19.921875 0 \nL 10.890625 0 \nL 10.890625 47.703125 \nL 2.296875 47.703125 \nL 2.296875 54.6875 \nL 10.890625 54.6875 \nL 10.890625 58.5 \nQ 10.890625 67.625 15.140625 71.796875 \nQ 19.390625 75.984375 28.609375 75.984375 \nz\n\" id=\"DejaVuSans-102\"/>\n       <path d=\"M 48.78125 52.59375 \nL 48.78125 44.1875 \nQ 44.96875 46.296875 41.140625 47.34375 \nQ 37.3125 48.390625 33.40625 48.390625 \nQ 24.65625 48.390625 19.8125 42.84375 \nQ 14.984375 37.3125 14.984375 27.296875 \nQ 14.984375 17.28125 19.8125 11.734375 \nQ 24.65625 6.203125 33.40625 6.203125 \nQ 37.3125 6.203125 41.140625 7.25 \nQ 44.96875 8.296875 48.78125 10.40625 \nL 48.78125 2.09375 \nQ 45.015625 0.34375 40.984375 -0.53125 \nQ 36.96875 -1.421875 32.421875 -1.421875 \nQ 20.0625 -1.421875 12.78125 6.34375 \nQ 5.515625 14.109375 5.515625 27.296875 \nQ 5.515625 40.671875 12.859375 48.328125 \nQ 20.21875 56 33.015625 56 \nQ 37.15625 56 41.109375 55.140625 \nQ 45.0625 54.296875 48.78125 52.59375 \nz\n\" id=\"DejaVuSans-99\"/>\n       <path d=\"M 18.3125 70.21875 \nL 18.3125 54.6875 \nL 36.8125 54.6875 \nL 36.8125 47.703125 \nL 18.3125 47.703125 \nL 18.3125 18.015625 \nQ 18.3125 11.328125 20.140625 9.421875 \nQ 21.96875 7.515625 27.59375 7.515625 \nL 36.8125 7.515625 \nL 36.8125 0 \nL 27.59375 0 \nQ 17.1875 0 13.234375 3.875 \nQ 9.28125 7.765625 9.28125 18.015625 \nL 9.28125 47.703125 \nL 2.6875 47.703125 \nL 2.6875 54.6875 \nL 9.28125 54.6875 \nL 9.28125 70.21875 \nz\n\" id=\"DejaVuSans-116\"/>\n       <path d=\"M 34.1875 63.1875 \nL 20.796875 26.90625 \nL 47.609375 26.90625 \nz\nM 28.609375 72.90625 \nL 39.796875 72.90625 \nL 67.578125 0 \nL 57.328125 0 \nL 50.6875 18.703125 \nL 17.828125 18.703125 \nL 11.1875 0 \nL 0.78125 0 \nz\n\" id=\"DejaVuSans-65\"/>\n       <path d=\"M 8.5 21.578125 \nL 8.5 54.6875 \nL 17.484375 54.6875 \nL 17.484375 21.921875 \nQ 17.484375 14.15625 20.5 10.265625 \nQ 23.53125 6.390625 29.59375 6.390625 \nQ 36.859375 6.390625 41.078125 11.03125 \nQ 45.3125 15.671875 45.3125 23.6875 \nL 45.3125 54.6875 \nL 54.296875 54.6875 \nL 54.296875 0 \nL 45.3125 0 \nL 45.3125 8.40625 \nQ 42.046875 3.421875 37.71875 1 \nQ 33.40625 -1.421875 27.6875 -1.421875 \nQ 18.265625 -1.421875 13.375 4.4375 \nQ 8.5 10.296875 8.5 21.578125 \nz\nM 31.109375 56 \nz\n\" id=\"DejaVuSans-117\"/>\n       <path d=\"M 32.171875 -5.078125 \nQ 28.375 -14.84375 24.75 -17.8125 \nQ 21.140625 -20.796875 15.09375 -20.796875 \nL 7.90625 -20.796875 \nL 7.90625 -13.28125 \nL 13.1875 -13.28125 \nQ 16.890625 -13.28125 18.9375 -11.515625 \nQ 21 -9.765625 23.484375 -3.21875 \nL 25.09375 0.875 \nL 2.984375 54.6875 \nL 12.5 54.6875 \nL 29.59375 11.921875 \nL 46.6875 54.6875 \nL 56.203125 54.6875 \nz\n\" id=\"DejaVuSans-121\"/>\n      </defs>\n      <use xlink:href=\"#DejaVuSans-67\"/>\n      <use x=\"69.824219\" xlink:href=\"#DejaVuSans-108\"/>\n      <use x=\"97.607422\" xlink:href=\"#DejaVuSans-97\"/>\n      <use x=\"158.886719\" xlink:href=\"#DejaVuSans-115\"/>\n      <use x=\"210.986328\" xlink:href=\"#DejaVuSans-115\"/>\n      <use x=\"263.085938\" xlink:href=\"#DejaVuSans-105\"/>\n      <use x=\"290.869141\" xlink:href=\"#DejaVuSans-102\"/>\n      <use x=\"326.074219\" xlink:href=\"#DejaVuSans-105\"/>\n      <use x=\"353.857422\" xlink:href=\"#DejaVuSans-99\"/>\n      <use x=\"408.837891\" xlink:href=\"#DejaVuSans-97\"/>\n      <use x=\"470.117188\" xlink:href=\"#DejaVuSans-116\"/>\n      <use x=\"509.326172\" xlink:href=\"#DejaVuSans-105\"/>\n      <use x=\"537.109375\" xlink:href=\"#DejaVuSans-111\"/>\n      <use x=\"598.291016\" xlink:href=\"#DejaVuSans-110\"/>\n      <use x=\"661.669922\" xlink:href=\"#DejaVuSans-32\"/>\n      <use x=\"693.457031\" xlink:href=\"#DejaVuSans-65\"/>\n      <use x=\"760.115234\" xlink:href=\"#DejaVuSans-99\"/>\n      <use x=\"815.095703\" xlink:href=\"#DejaVuSans-99\"/>\n      <use x=\"870.076172\" xlink:href=\"#DejaVuSans-117\"/>\n      <use x=\"933.455078\" xlink:href=\"#DejaVuSans-114\"/>\n      <use x=\"974.568359\" xlink:href=\"#DejaVuSans-97\"/>\n      <use x=\"1035.847656\" xlink:href=\"#DejaVuSans-99\"/>\n      <use x=\"1090.828125\" xlink:href=\"#DejaVuSans-121\"/>\n     </g>\n    </g>\n   </g>\n   <g id=\"line2d_27\"/>\n   <g id=\"patch_8\">\n    <path d=\"M 58.523438 543.718125 \nL 58.523438 304.918125 \n\" style=\"fill:none;stroke:#000000;stroke-linecap:square;stroke-linejoin:miter;stroke-width:0.8;\"/>\n   </g>\n   <g id=\"patch_9\">\n    <path d=\"M 849.173438 543.718125 \nL 849.173438 304.918125 \n\" style=\"fill:none;stroke:#000000;stroke-linecap:square;stroke-linejoin:miter;stroke-width:0.8;\"/>\n   </g>\n   <g id=\"patch_10\">\n    <path d=\"M 58.523438 543.718125 \nL 849.173438 543.718125 \n\" style=\"fill:none;stroke:#000000;stroke-linecap:square;stroke-linejoin:miter;stroke-width:0.8;\"/>\n   </g>\n   <g id=\"patch_11\">\n    <path d=\"M 58.523438 304.918125 \nL 849.173438 304.918125 \n\" style=\"fill:none;stroke:#000000;stroke-linecap:square;stroke-linejoin:miter;stroke-width:0.8;\"/>\n   </g>\n   <g id=\"text_29\">\n    <!-- Training Accuracy -->\n    <g transform=\"translate(400.876875 298.918125)scale(0.12 -0.12)\">\n     <use xlink:href=\"#DejaVuSans-84\"/>\n     <use x=\"46.333984\" xlink:href=\"#DejaVuSans-114\"/>\n     <use x=\"87.447266\" xlink:href=\"#DejaVuSans-97\"/>\n     <use x=\"148.726562\" xlink:href=\"#DejaVuSans-105\"/>\n     <use x=\"176.509766\" xlink:href=\"#DejaVuSans-110\"/>\n     <use x=\"239.888672\" xlink:href=\"#DejaVuSans-105\"/>\n     <use x=\"267.671875\" xlink:href=\"#DejaVuSans-110\"/>\n     <use x=\"331.050781\" xlink:href=\"#DejaVuSans-103\"/>\n     <use x=\"394.527344\" xlink:href=\"#DejaVuSans-32\"/>\n     <use x=\"426.314453\" xlink:href=\"#DejaVuSans-65\"/>\n     <use x=\"492.972656\" xlink:href=\"#DejaVuSans-99\"/>\n     <use x=\"547.953125\" xlink:href=\"#DejaVuSans-99\"/>\n     <use x=\"602.933594\" xlink:href=\"#DejaVuSans-117\"/>\n     <use x=\"666.3125\" xlink:href=\"#DejaVuSans-114\"/>\n     <use x=\"707.425781\" xlink:href=\"#DejaVuSans-97\"/>\n     <use x=\"768.705078\" xlink:href=\"#DejaVuSans-99\"/>\n     <use x=\"823.685547\" xlink:href=\"#DejaVuSans-121\"/>\n    </g>\n   </g>\n  </g>\n </g>\n <defs>\n  <clipPath id=\"pa1ef952229\">\n   <rect height=\"238.8\" width=\"790.65\" x=\"58.523438\" y=\"22.318125\"/>\n  </clipPath>\n </defs>\n</svg>\n",
      "image/png": "[encoded data removed]"
     },
     "metadata": {
      "needs_background": "light"
     }
    }
   ],
   "source": [
    "fig, ax = plt.subplots(2, 1, figsize=(12,8))\n",
    "ax[0].plot(train_loss)\n",
    "ax[0].set_ylabel('Loss')\n",
    "ax[0].set_title('Training Loss')\n",
    "\n",
    "ax[1].plot(val_corrects_list)\n",
    "ax[1].set_ylabel('Classification Accuracy')\n",
    "ax[1].set_title('Training Accuracy')\n",
    "\n",
    "plt.tight_layout()\n",
    "plt.show()"
   ]
  },
  {
   "cell_type": "code",
   "execution_count": 102,
   "metadata": {},
   "outputs": [
    {
     "output_type": "display_data",
     "data": {
      "text/plain": "<Figure size 864x576 with 2 Axes>",
      "image/svg+xml": "<?xml version=\"1.0\" encoding=\"utf-8\" standalone=\"no\"?>\n<!DOCTYPE svg PUBLIC \"-//W3C//DTD SVG 1.1//EN\"\n  \"http://www.w3.org/Graphics/SVG/1.1/DTD/svg11.dtd\">\n<!-- Created with matplotlib (https://matplotlib.org/) -->\n<svg height=\"567.59625pt\" version=\"1.1\" viewBox=\"0 0 856.36875 567.59625\" width=\"856.36875pt\" xmlns=\"http://www.w3.org/2000/svg\" xmlns:xlink=\"http://www.w3.org/1999/xlink\">\n <metadata>\n  <rdf:RDF xmlns:cc=\"http://creativecommons.org/ns#\" xmlns:dc=\"http://purl.org/dc/elements/1.1/\" xmlns:rdf=\"http://www.w3.org/1999/02/22-rdf-syntax-ns#\">\n   <cc:Work>\n    <dc:type rdf:resource=\"http://purl.org/dc/dcmitype/StillImage\"/>\n    <dc:date>2020-12-15T23:07:34.058947</dc:date>\n    <dc:format>image/svg+xml</dc:format>\n    <dc:creator>\n     <cc:Agent>\n      <dc:title>Matplotlib v3.3.2, https://matplotlib.org/</dc:title>\n     </cc:Agent>\n    </dc:creator>\n   </cc:Work>\n  </rdf:RDF>\n </metadata>\n <defs>\n  <style type=\"text/css\">*{stroke-linecap:butt;stroke-linejoin:round;}</style>\n </defs>\n <g id=\"figure_1\">\n  <g id=\"patch_1\">\n   <path d=\"M 0 567.59625 \nL 856.36875 567.59625 \nL 856.36875 0 \nL 0 0 \nz\n\" style=\"fill:none;\"/>\n  </g>\n  <g id=\"axes_1\">\n   <g id=\"patch_2\">\n    <path d=\"M 50.14375 261.118125 \nL 849.16875 261.118125 \nL 849.16875 22.318125 \nL 50.14375 22.318125 \nz\n\" style=\"fill:#ffffff;\"/>\n   </g>\n   <g id=\"matplotlib.axis_1\">\n    <g id=\"xtick_1\">\n     <g id=\"line2d_1\">\n      <defs>\n       <path d=\"M 0 0 \nL 0 3.5 \n\" id=\"m791870d0e0\" style=\"stroke:#000000;stroke-width:0.8;\"/>\n      </defs>\n      <g>\n       <use style=\"stroke:#000000;stroke-width:0.8;\" x=\"86.463068\" xlink:href=\"#m791870d0e0\" y=\"261.118125\"/>\n      </g>\n     </g>\n     <g id=\"text_1\">\n      <!-- 0 -->\n      <g transform=\"translate(83.281818 275.716563)scale(0.1 -0.1)\">\n       <defs>\n        <path d=\"M 31.78125 66.40625 \nQ 24.171875 66.40625 20.328125 58.90625 \nQ 16.5 51.421875 16.5 36.375 \nQ 16.5 21.390625 20.328125 13.890625 \nQ 24.171875 6.390625 31.78125 6.390625 \nQ 39.453125 6.390625 43.28125 13.890625 \nQ 47.125 21.390625 47.125 36.375 \nQ 47.125 51.421875 43.28125 58.90625 \nQ 39.453125 66.40625 31.78125 66.40625 \nz\nM 31.78125 74.21875 \nQ 44.046875 74.21875 50.515625 64.515625 \nQ 56.984375 54.828125 56.984375 36.375 \nQ 56.984375 17.96875 50.515625 8.265625 \nQ 44.046875 -1.421875 31.78125 -1.421875 \nQ 19.53125 -1.421875 13.0625 8.265625 \nQ 6.59375 17.96875 6.59375 36.375 \nQ 6.59375 54.828125 13.0625 64.515625 \nQ 19.53125 74.21875 31.78125 74.21875 \nz\n\" id=\"DejaVuSans-48\"/>\n       </defs>\n       <use xlink:href=\"#DejaVuSans-48\"/>\n      </g>\n     </g>\n    </g>\n    <g id=\"xtick_2\">\n     <g id=\"line2d_2\">\n      <g>\n       <use style=\"stroke:#000000;stroke-width:0.8;\" x=\"230.301952\" xlink:href=\"#m791870d0e0\" y=\"261.118125\"/>\n      </g>\n     </g>\n     <g id=\"text_2\">\n      <!-- 20 -->\n      <g transform=\"translate(223.939452 275.716563)scale(0.1 -0.1)\">\n       <defs>\n        <path d=\"M 19.1875 8.296875 \nL 53.609375 8.296875 \nL 53.609375 0 \nL 7.328125 0 \nL 7.328125 8.296875 \nQ 12.9375 14.109375 22.625 23.890625 \nQ 32.328125 33.6875 34.8125 36.53125 \nQ 39.546875 41.84375 41.421875 45.53125 \nQ 43.3125 49.21875 43.3125 52.78125 \nQ 43.3125 58.59375 39.234375 62.25 \nQ 35.15625 65.921875 28.609375 65.921875 \nQ 23.96875 65.921875 18.8125 64.3125 \nQ 13.671875 62.703125 7.8125 59.421875 \nL 7.8125 69.390625 \nQ 13.765625 71.78125 18.9375 73 \nQ 24.125 74.21875 28.421875 74.21875 \nQ 39.75 74.21875 46.484375 68.546875 \nQ 53.21875 62.890625 53.21875 53.421875 \nQ 53.21875 48.921875 51.53125 44.890625 \nQ 49.859375 40.875 45.40625 35.40625 \nQ 44.1875 33.984375 37.640625 27.21875 \nQ 31.109375 20.453125 19.1875 8.296875 \nz\n\" id=\"DejaVuSans-50\"/>\n       </defs>\n       <use xlink:href=\"#DejaVuSans-50\"/>\n       <use x=\"63.623047\" xlink:href=\"#DejaVuSans-48\"/>\n      </g>\n     </g>\n    </g>\n    <g id=\"xtick_3\">\n     <g id=\"line2d_3\">\n      <g>\n       <use style=\"stroke:#000000;stroke-width:0.8;\" x=\"374.140836\" xlink:href=\"#m791870d0e0\" y=\"261.118125\"/>\n      </g>\n     </g>\n     <g id=\"text_3\">\n      <!-- 40 -->\n      <g transform=\"translate(367.778336 275.716563)scale(0.1 -0.1)\">\n       <defs>\n        <path d=\"M 37.796875 64.3125 \nL 12.890625 25.390625 \nL 37.796875 25.390625 \nz\nM 35.203125 72.90625 \nL 47.609375 72.90625 \nL 47.609375 25.390625 \nL 58.015625 25.390625 \nL 58.015625 17.1875 \nL 47.609375 17.1875 \nL 47.609375 0 \nL 37.796875 0 \nL 37.796875 17.1875 \nL 4.890625 17.1875 \nL 4.890625 26.703125 \nz\n\" id=\"DejaVuSans-52\"/>\n       </defs>\n       <use xlink:href=\"#DejaVuSans-52\"/>\n       <use x=\"63.623047\" xlink:href=\"#DejaVuSans-48\"/>\n      </g>\n     </g>\n    </g>\n    <g id=\"xtick_4\">\n     <g id=\"line2d_4\">\n      <g>\n       <use style=\"stroke:#000000;stroke-width:0.8;\" x=\"517.97972\" xlink:href=\"#m791870d0e0\" y=\"261.118125\"/>\n      </g>\n     </g>\n     <g id=\"text_4\">\n      <!-- 60 -->\n      <g transform=\"translate(511.61722 275.716563)scale(0.1 -0.1)\">\n       <defs>\n        <path d=\"M 33.015625 40.375 \nQ 26.375 40.375 22.484375 35.828125 \nQ 18.609375 31.296875 18.609375 23.390625 \nQ 18.609375 15.53125 22.484375 10.953125 \nQ 26.375 6.390625 33.015625 6.390625 \nQ 39.65625 6.390625 43.53125 10.953125 \nQ 47.40625 15.53125 47.40625 23.390625 \nQ 47.40625 31.296875 43.53125 35.828125 \nQ 39.65625 40.375 33.015625 40.375 \nz\nM 52.59375 71.296875 \nL 52.59375 62.3125 \nQ 48.875 64.0625 45.09375 64.984375 \nQ 41.3125 65.921875 37.59375 65.921875 \nQ 27.828125 65.921875 22.671875 59.328125 \nQ 17.53125 52.734375 16.796875 39.40625 \nQ 19.671875 43.65625 24.015625 45.921875 \nQ 28.375 48.1875 33.59375 48.1875 \nQ 44.578125 48.1875 50.953125 41.515625 \nQ 57.328125 34.859375 57.328125 23.390625 \nQ 57.328125 12.15625 50.6875 5.359375 \nQ 44.046875 -1.421875 33.015625 -1.421875 \nQ 20.359375 -1.421875 13.671875 8.265625 \nQ 6.984375 17.96875 6.984375 36.375 \nQ 6.984375 53.65625 15.1875 63.9375 \nQ 23.390625 74.21875 37.203125 74.21875 \nQ 40.921875 74.21875 44.703125 73.484375 \nQ 48.484375 72.75 52.59375 71.296875 \nz\n\" id=\"DejaVuSans-54\"/>\n       </defs>\n       <use xlink:href=\"#DejaVuSans-54\"/>\n       <use x=\"63.623047\" xlink:href=\"#DejaVuSans-48\"/>\n      </g>\n     </g>\n    </g>\n    <g id=\"xtick_5\">\n     <g id=\"line2d_5\">\n      <g>\n       <use style=\"stroke:#000000;stroke-width:0.8;\" x=\"661.818604\" xlink:href=\"#m791870d0e0\" y=\"261.118125\"/>\n      </g>\n     </g>\n     <g id=\"text_5\">\n      <!-- 80 -->\n      <g transform=\"translate(655.456104 275.716563)scale(0.1 -0.1)\">\n       <defs>\n        <path d=\"M 31.78125 34.625 \nQ 24.75 34.625 20.71875 30.859375 \nQ 16.703125 27.09375 16.703125 20.515625 \nQ 16.703125 13.921875 20.71875 10.15625 \nQ 24.75 6.390625 31.78125 6.390625 \nQ 38.8125 6.390625 42.859375 10.171875 \nQ 46.921875 13.96875 46.921875 20.515625 \nQ 46.921875 27.09375 42.890625 30.859375 \nQ 38.875 34.625 31.78125 34.625 \nz\nM 21.921875 38.8125 \nQ 15.578125 40.375 12.03125 44.71875 \nQ 8.5 49.078125 8.5 55.328125 \nQ 8.5 64.0625 14.71875 69.140625 \nQ 20.953125 74.21875 31.78125 74.21875 \nQ 42.671875 74.21875 48.875 69.140625 \nQ 55.078125 64.0625 55.078125 55.328125 \nQ 55.078125 49.078125 51.53125 44.71875 \nQ 48 40.375 41.703125 38.8125 \nQ 48.828125 37.15625 52.796875 32.3125 \nQ 56.78125 27.484375 56.78125 20.515625 \nQ 56.78125 9.90625 50.3125 4.234375 \nQ 43.84375 -1.421875 31.78125 -1.421875 \nQ 19.734375 -1.421875 13.25 4.234375 \nQ 6.78125 9.90625 6.78125 20.515625 \nQ 6.78125 27.484375 10.78125 32.3125 \nQ 14.796875 37.15625 21.921875 38.8125 \nz\nM 18.3125 54.390625 \nQ 18.3125 48.734375 21.84375 45.5625 \nQ 25.390625 42.390625 31.78125 42.390625 \nQ 38.140625 42.390625 41.71875 45.5625 \nQ 45.3125 48.734375 45.3125 54.390625 \nQ 45.3125 60.0625 41.71875 63.234375 \nQ 38.140625 66.40625 31.78125 66.40625 \nQ 25.390625 66.40625 21.84375 63.234375 \nQ 18.3125 60.0625 18.3125 54.390625 \nz\n\" id=\"DejaVuSans-56\"/>\n       </defs>\n       <use xlink:href=\"#DejaVuSans-56\"/>\n       <use x=\"63.623047\" xlink:href=\"#DejaVuSans-48\"/>\n      </g>\n     </g>\n    </g>\n    <g id=\"xtick_6\">\n     <g id=\"line2d_6\">\n      <g>\n       <use style=\"stroke:#000000;stroke-width:0.8;\" x=\"805.657488\" xlink:href=\"#m791870d0e0\" y=\"261.118125\"/>\n      </g>\n     </g>\n     <g id=\"text_6\">\n      <!-- 100 -->\n      <g transform=\"translate(796.113738 275.716563)scale(0.1 -0.1)\">\n       <defs>\n        <path d=\"M 12.40625 8.296875 \nL 28.515625 8.296875 \nL 28.515625 63.921875 \nL 10.984375 60.40625 \nL 10.984375 69.390625 \nL 28.421875 72.90625 \nL 38.28125 72.90625 \nL 38.28125 8.296875 \nL 54.390625 8.296875 \nL 54.390625 0 \nL 12.40625 0 \nz\n\" id=\"DejaVuSans-49\"/>\n       </defs>\n       <use xlink:href=\"#DejaVuSans-49\"/>\n       <use x=\"63.623047\" xlink:href=\"#DejaVuSans-48\"/>\n       <use x=\"127.246094\" xlink:href=\"#DejaVuSans-48\"/>\n      </g>\n     </g>\n    </g>\n   </g>\n   <g id=\"matplotlib.axis_2\">\n    <g id=\"ytick_1\">\n     <g id=\"line2d_7\">\n      <defs>\n       <path d=\"M 0 0 \nL -3.5 0 \n\" id=\"m2f4e0976a4\" style=\"stroke:#000000;stroke-width:0.8;\"/>\n      </defs>\n      <g>\n       <use style=\"stroke:#000000;stroke-width:0.8;\" x=\"50.14375\" xlink:href=\"#m2f4e0976a4\" y=\"252.068856\"/>\n      </g>\n     </g>\n     <g id=\"text_7\">\n      <!-- 0.00 -->\n      <g transform=\"translate(20.878125 255.868075)scale(0.1 -0.1)\">\n       <defs>\n        <path d=\"M 10.6875 12.40625 \nL 21 12.40625 \nL 21 0 \nL 10.6875 0 \nz\n\" id=\"DejaVuSans-46\"/>\n       </defs>\n       <use xlink:href=\"#DejaVuSans-48\"/>\n       <use x=\"63.623047\" xlink:href=\"#DejaVuSans-46\"/>\n       <use x=\"95.410156\" xlink:href=\"#DejaVuSans-48\"/>\n       <use x=\"159.033203\" xlink:href=\"#DejaVuSans-48\"/>\n      </g>\n     </g>\n    </g>\n    <g id=\"ytick_2\">\n     <g id=\"line2d_8\">\n      <g>\n       <use style=\"stroke:#000000;stroke-width:0.8;\" x=\"50.14375\" xlink:href=\"#m2f4e0976a4\" y=\"223.275004\"/>\n      </g>\n     </g>\n     <g id=\"text_8\">\n      <!-- 0.25 -->\n      <g transform=\"translate(20.878125 227.074223)scale(0.1 -0.1)\">\n       <defs>\n        <path d=\"M 10.796875 72.90625 \nL 49.515625 72.90625 \nL 49.515625 64.59375 \nL 19.828125 64.59375 \nL 19.828125 46.734375 \nQ 21.96875 47.46875 24.109375 47.828125 \nQ 26.265625 48.1875 28.421875 48.1875 \nQ 40.625 48.1875 47.75 41.5 \nQ 54.890625 34.8125 54.890625 23.390625 \nQ 54.890625 11.625 47.5625 5.09375 \nQ 40.234375 -1.421875 26.90625 -1.421875 \nQ 22.3125 -1.421875 17.546875 -0.640625 \nQ 12.796875 0.140625 7.71875 1.703125 \nL 7.71875 11.625 \nQ 12.109375 9.234375 16.796875 8.0625 \nQ 21.484375 6.890625 26.703125 6.890625 \nQ 35.15625 6.890625 40.078125 11.328125 \nQ 45.015625 15.765625 45.015625 23.390625 \nQ 45.015625 31 40.078125 35.4375 \nQ 35.15625 39.890625 26.703125 39.890625 \nQ 22.75 39.890625 18.8125 39.015625 \nQ 14.890625 38.140625 10.796875 36.28125 \nz\n\" id=\"DejaVuSans-53\"/>\n       </defs>\n       <use xlink:href=\"#DejaVuSans-48\"/>\n       <use x=\"63.623047\" xlink:href=\"#DejaVuSans-46\"/>\n       <use x=\"95.410156\" xlink:href=\"#DejaVuSans-50\"/>\n       <use x=\"159.033203\" xlink:href=\"#DejaVuSans-53\"/>\n      </g>\n     </g>\n    </g>\n    <g id=\"ytick_3\">\n     <g id=\"line2d_9\">\n      <g>\n       <use style=\"stroke:#000000;stroke-width:0.8;\" x=\"50.14375\" xlink:href=\"#m2f4e0976a4\" y=\"194.481153\"/>\n      </g>\n     </g>\n     <g id=\"text_9\">\n      <!-- 0.50 -->\n      <g transform=\"translate(20.878125 198.280371)scale(0.1 -0.1)\">\n       <use xlink:href=\"#DejaVuSans-48\"/>\n       <use x=\"63.623047\" xlink:href=\"#DejaVuSans-46\"/>\n       <use x=\"95.410156\" xlink:href=\"#DejaVuSans-53\"/>\n       <use x=\"159.033203\" xlink:href=\"#DejaVuSans-48\"/>\n      </g>\n     </g>\n    </g>\n    <g id=\"ytick_4\">\n     <g id=\"line2d_10\">\n      <g>\n       <use style=\"stroke:#000000;stroke-width:0.8;\" x=\"50.14375\" xlink:href=\"#m2f4e0976a4\" y=\"165.687301\"/>\n      </g>\n     </g>\n     <g id=\"text_10\">\n      <!-- 0.75 -->\n      <g transform=\"translate(20.878125 169.48652)scale(0.1 -0.1)\">\n       <defs>\n        <path d=\"M 8.203125 72.90625 \nL 55.078125 72.90625 \nL 55.078125 68.703125 \nL 28.609375 0 \nL 18.3125 0 \nL 43.21875 64.59375 \nL 8.203125 64.59375 \nz\n\" id=\"DejaVuSans-55\"/>\n       </defs>\n       <use xlink:href=\"#DejaVuSans-48\"/>\n       <use x=\"63.623047\" xlink:href=\"#DejaVuSans-46\"/>\n       <use x=\"95.410156\" xlink:href=\"#DejaVuSans-55\"/>\n       <use x=\"159.033203\" xlink:href=\"#DejaVuSans-53\"/>\n      </g>\n     </g>\n    </g>\n    <g id=\"ytick_5\">\n     <g id=\"line2d_11\">\n      <g>\n       <use style=\"stroke:#000000;stroke-width:0.8;\" x=\"50.14375\" xlink:href=\"#m2f4e0976a4\" y=\"136.893449\"/>\n      </g>\n     </g>\n     <g id=\"text_11\">\n      <!-- 1.00 -->\n      <g transform=\"translate(20.878125 140.692668)scale(0.1 -0.1)\">\n       <use xlink:href=\"#DejaVuSans-49\"/>\n       <use x=\"63.623047\" xlink:href=\"#DejaVuSans-46\"/>\n       <use x=\"95.410156\" xlink:href=\"#DejaVuSans-48\"/>\n       <use x=\"159.033203\" xlink:href=\"#DejaVuSans-48\"/>\n      </g>\n     </g>\n    </g>\n    <g id=\"ytick_6\">\n     <g id=\"line2d_12\">\n      <g>\n       <use style=\"stroke:#000000;stroke-width:0.8;\" x=\"50.14375\" xlink:href=\"#m2f4e0976a4\" y=\"108.099598\"/>\n      </g>\n     </g>\n     <g id=\"text_12\">\n      <!-- 1.25 -->\n      <g transform=\"translate(20.878125 111.898816)scale(0.1 -0.1)\">\n       <use xlink:href=\"#DejaVuSans-49\"/>\n       <use x=\"63.623047\" xlink:href=\"#DejaVuSans-46\"/>\n       <use x=\"95.410156\" xlink:href=\"#DejaVuSans-50\"/>\n       <use x=\"159.033203\" xlink:href=\"#DejaVuSans-53\"/>\n      </g>\n     </g>\n    </g>\n    <g id=\"ytick_7\">\n     <g id=\"line2d_13\">\n      <g>\n       <use style=\"stroke:#000000;stroke-width:0.8;\" x=\"50.14375\" xlink:href=\"#m2f4e0976a4\" y=\"79.305746\"/>\n      </g>\n     </g>\n     <g id=\"text_13\">\n      <!-- 1.50 -->\n      <g transform=\"translate(20.878125 83.104965)scale(0.1 -0.1)\">\n       <use xlink:href=\"#DejaVuSans-49\"/>\n       <use x=\"63.623047\" xlink:href=\"#DejaVuSans-46\"/>\n       <use x=\"95.410156\" xlink:href=\"#DejaVuSans-53\"/>\n       <use x=\"159.033203\" xlink:href=\"#DejaVuSans-48\"/>\n      </g>\n     </g>\n    </g>\n    <g id=\"ytick_8\">\n     <g id=\"line2d_14\">\n      <g>\n       <use style=\"stroke:#000000;stroke-width:0.8;\" x=\"50.14375\" xlink:href=\"#m2f4e0976a4\" y=\"50.511894\"/>\n      </g>\n     </g>\n     <g id=\"text_14\">\n      <!-- 1.75 -->\n      <g transform=\"translate(20.878125 54.311113)scale(0.1 -0.1)\">\n       <use xlink:href=\"#DejaVuSans-49\"/>\n       <use x=\"63.623047\" xlink:href=\"#DejaVuSans-46\"/>\n       <use x=\"95.410156\" xlink:href=\"#DejaVuSans-55\"/>\n       <use x=\"159.033203\" xlink:href=\"#DejaVuSans-53\"/>\n      </g>\n     </g>\n    </g>\n    <g id=\"text_15\">\n     <!-- Loss -->\n     <g transform=\"translate(14.798438 152.685313)rotate(-90)scale(0.1 -0.1)\">\n      <defs>\n       <path d=\"M 9.8125 72.90625 \nL 19.671875 72.90625 \nL 19.671875 8.296875 \nL 55.171875 8.296875 \nL 55.171875 0 \nL 9.8125 0 \nz\n\" id=\"DejaVuSans-76\"/>\n       <path d=\"M 30.609375 48.390625 \nQ 23.390625 48.390625 19.1875 42.75 \nQ 14.984375 37.109375 14.984375 27.296875 \nQ 14.984375 17.484375 19.15625 11.84375 \nQ 23.34375 6.203125 30.609375 6.203125 \nQ 37.796875 6.203125 41.984375 11.859375 \nQ 46.1875 17.53125 46.1875 27.296875 \nQ 46.1875 37.015625 41.984375 42.703125 \nQ 37.796875 48.390625 30.609375 48.390625 \nz\nM 30.609375 56 \nQ 42.328125 56 49.015625 48.375 \nQ 55.71875 40.765625 55.71875 27.296875 \nQ 55.71875 13.875 49.015625 6.21875 \nQ 42.328125 -1.421875 30.609375 -1.421875 \nQ 18.84375 -1.421875 12.171875 6.21875 \nQ 5.515625 13.875 5.515625 27.296875 \nQ 5.515625 40.765625 12.171875 48.375 \nQ 18.84375 56 30.609375 56 \nz\n\" id=\"DejaVuSans-111\"/>\n       <path d=\"M 44.28125 53.078125 \nL 44.28125 44.578125 \nQ 40.484375 46.53125 36.375 47.5 \nQ 32.28125 48.484375 27.875 48.484375 \nQ 21.1875 48.484375 17.84375 46.4375 \nQ 14.5 44.390625 14.5 40.28125 \nQ 14.5 37.15625 16.890625 35.375 \nQ 19.28125 33.59375 26.515625 31.984375 \nL 29.59375 31.296875 \nQ 39.15625 29.25 43.1875 25.515625 \nQ 47.21875 21.78125 47.21875 15.09375 \nQ 47.21875 7.46875 41.1875 3.015625 \nQ 35.15625 -1.421875 24.609375 -1.421875 \nQ 20.21875 -1.421875 15.453125 -0.5625 \nQ 10.6875 0.296875 5.421875 2 \nL 5.421875 11.28125 \nQ 10.40625 8.6875 15.234375 7.390625 \nQ 20.0625 6.109375 24.8125 6.109375 \nQ 31.15625 6.109375 34.5625 8.28125 \nQ 37.984375 10.453125 37.984375 14.40625 \nQ 37.984375 18.0625 35.515625 20.015625 \nQ 33.0625 21.96875 24.703125 23.78125 \nL 21.578125 24.515625 \nQ 13.234375 26.265625 9.515625 29.90625 \nQ 5.8125 33.546875 5.8125 39.890625 \nQ 5.8125 47.609375 11.28125 51.796875 \nQ 16.75 56 26.8125 56 \nQ 31.78125 56 36.171875 55.265625 \nQ 40.578125 54.546875 44.28125 53.078125 \nz\n\" id=\"DejaVuSans-115\"/>\n      </defs>\n      <use xlink:href=\"#DejaVuSans-76\"/>\n      <use x=\"53.962891\" xlink:href=\"#DejaVuSans-111\"/>\n      <use x=\"115.144531\" xlink:href=\"#DejaVuSans-115\"/>\n      <use x=\"167.244141\" xlink:href=\"#DejaVuSans-115\"/>\n     </g>\n    </g>\n   </g>\n   <g id=\"line2d_15\">\n    <path clip-path=\"url(#pc434a79677)\" d=\"M 86.463068 181.264554 \nL 93.655012 209.678683 \nL 100.846957 208.28803 \nL 108.038901 162.193056 \nL 115.230845 210.030016 \nL 122.422789 157.702998 \nL 129.614733 225.014129 \nL 136.806678 189.540754 \nL 143.998622 211.963193 \nL 151.190566 205.346716 \nL 158.38251 212.100521 \nL 165.574454 198.316095 \nL 172.766399 180.181653 \nL 179.958343 226.543892 \nL 187.150287 220.219593 \nL 194.342231 204.489664 \nL 201.534175 216.197668 \nL 208.726119 235.548964 \nL 215.918064 214.718924 \nL 223.110008 226.722098 \nL 230.301952 234.561968 \nL 237.493896 217.782587 \nL 244.68584 196.378576 \nL 251.877785 230.133811 \nL 259.069729 212.428012 \nL 266.261673 214.265912 \nL 273.453617 209.828439 \nL 280.645561 233.534748 \nL 287.837506 224.935732 \nL 295.02945 208.33994 \nL 302.221394 243.893577 \nL 309.413338 237.596186 \nL 316.605282 197.241677 \nL 323.797227 227.301141 \nL 330.989171 202.682881 \nL 338.181115 225.288764 \nL 345.373059 225.008334 \nL 352.565003 217.451537 \nL 359.756948 222.203122 \nL 366.948892 200.114154 \nL 374.140836 222.633329 \nL 381.33278 153.894665 \nL 388.524724 239.009409 \nL 395.716669 200.716142 \nL 402.908613 232.225998 \nL 410.100557 202.225421 \nL 417.292501 189.986106 \nL 424.484445 186.578354 \nL 431.67639 191.441721 \nL 438.868334 242.776319 \nL 446.060278 114.713903 \nL 453.252222 163.892159 \nL 460.444166 168.969203 \nL 467.63611 175.647206 \nL 474.828055 237.524636 \nL 482.019999 229.614985 \nL 489.211943 248.299832 \nL 496.403887 237.751888 \nL 503.595831 239.012045 \nL 510.787776 231.756796 \nL 517.97972 246.170038 \nL 525.171664 241.881973 \nL 532.363608 227.948342 \nL 539.555552 232.253118 \nL 546.747497 243.485876 \nL 553.939441 241.038199 \nL 561.131385 248.469169 \nL 568.323329 248.549367 \nL 575.515273 247.922067 \nL 582.707218 235.624171 \nL 589.899162 250.26358 \nL 597.091106 225.237677 \nL 604.28305 231.592179 \nL 611.474994 230.436133 \nL 618.666939 237.561887 \nL 625.858883 191.9397 \nL 633.050827 231.507436 \nL 640.242771 236.632853 \nL 647.434715 205.87772 \nL 654.62666 231.869508 \nL 661.818604 231.132258 \nL 669.010548 134.753657 \nL 676.202492 172.78181 \nL 683.394436 195.179213 \nL 690.586381 193.359725 \nL 697.778325 202.3987 \nL 704.970269 204.013824 \nL 712.162213 214.30727 \nL 719.354157 209.451421 \nL 726.546101 234.535798 \nL 733.738046 207.104922 \nL 740.92999 189.572984 \nL 748.121934 246.336846 \nL 755.313878 169.497575 \nL 762.505822 205.580437 \nL 769.697767 33.17267 \nL 776.889711 209.754418 \nL 784.081655 205.34483 \nL 791.273599 211.79895 \nL 798.465543 214.782231 \nL 805.657488 229.815792 \nL 812.849432 238.367413 \n\" style=\"fill:none;stroke:#1f77b4;stroke-linecap:square;stroke-width:1.5;\"/>\n   </g>\n   <g id=\"patch_3\">\n    <path d=\"M 50.14375 261.118125 \nL 50.14375 22.318125 \n\" style=\"fill:none;stroke:#000000;stroke-linecap:square;stroke-linejoin:miter;stroke-width:0.8;\"/>\n   </g>\n   <g id=\"patch_4\">\n    <path d=\"M 849.16875 261.118125 \nL 849.16875 22.318125 \n\" style=\"fill:none;stroke:#000000;stroke-linecap:square;stroke-linejoin:miter;stroke-width:0.8;\"/>\n   </g>\n   <g id=\"patch_5\">\n    <path d=\"M 50.14375 261.118125 \nL 849.16875 261.118125 \n\" style=\"fill:none;stroke:#000000;stroke-linecap:square;stroke-linejoin:miter;stroke-width:0.8;\"/>\n   </g>\n   <g id=\"patch_6\">\n    <path d=\"M 50.14375 22.318125 \nL 849.16875 22.318125 \n\" style=\"fill:none;stroke:#000000;stroke-linecap:square;stroke-linejoin:miter;stroke-width:0.8;\"/>\n   </g>\n   <g id=\"text_16\">\n    <!-- Test Loss -->\n    <g transform=\"translate(422.774375 16.318125)scale(0.12 -0.12)\">\n     <defs>\n      <path d=\"M -0.296875 72.90625 \nL 61.375 72.90625 \nL 61.375 64.59375 \nL 35.5 64.59375 \nL 35.5 0 \nL 25.59375 0 \nL 25.59375 64.59375 \nL -0.296875 64.59375 \nz\n\" id=\"DejaVuSans-84\"/>\n      <path d=\"M 56.203125 29.59375 \nL 56.203125 25.203125 \nL 14.890625 25.203125 \nQ 15.484375 15.921875 20.484375 11.0625 \nQ 25.484375 6.203125 34.421875 6.203125 \nQ 39.59375 6.203125 44.453125 7.46875 \nQ 49.3125 8.734375 54.109375 11.28125 \nL 54.109375 2.78125 \nQ 49.265625 0.734375 44.1875 -0.34375 \nQ 39.109375 -1.421875 33.890625 -1.421875 \nQ 20.796875 -1.421875 13.15625 6.1875 \nQ 5.515625 13.8125 5.515625 26.8125 \nQ 5.515625 40.234375 12.765625 48.109375 \nQ 20.015625 56 32.328125 56 \nQ 43.359375 56 49.78125 48.890625 \nQ 56.203125 41.796875 56.203125 29.59375 \nz\nM 47.21875 32.234375 \nQ 47.125 39.59375 43.09375 43.984375 \nQ 39.0625 48.390625 32.421875 48.390625 \nQ 24.90625 48.390625 20.390625 44.140625 \nQ 15.875 39.890625 15.1875 32.171875 \nz\n\" id=\"DejaVuSans-101\"/>\n      <path d=\"M 18.3125 70.21875 \nL 18.3125 54.6875 \nL 36.8125 54.6875 \nL 36.8125 47.703125 \nL 18.3125 47.703125 \nL 18.3125 18.015625 \nQ 18.3125 11.328125 20.140625 9.421875 \nQ 21.96875 7.515625 27.59375 7.515625 \nL 36.8125 7.515625 \nL 36.8125 0 \nL 27.59375 0 \nQ 17.1875 0 13.234375 3.875 \nQ 9.28125 7.765625 9.28125 18.015625 \nL 9.28125 47.703125 \nL 2.6875 47.703125 \nL 2.6875 54.6875 \nL 9.28125 54.6875 \nL 9.28125 70.21875 \nz\n\" id=\"DejaVuSans-116\"/>\n      <path id=\"DejaVuSans-32\"/>\n     </defs>\n     <use xlink:href=\"#DejaVuSans-84\"/>\n     <use x=\"44.083984\" xlink:href=\"#DejaVuSans-101\"/>\n     <use x=\"105.607422\" xlink:href=\"#DejaVuSans-115\"/>\n     <use x=\"157.707031\" xlink:href=\"#DejaVuSans-116\"/>\n     <use x=\"196.916016\" xlink:href=\"#DejaVuSans-32\"/>\n     <use x=\"228.703125\" xlink:href=\"#DejaVuSans-76\"/>\n     <use x=\"282.666016\" xlink:href=\"#DejaVuSans-111\"/>\n     <use x=\"343.847656\" xlink:href=\"#DejaVuSans-115\"/>\n     <use x=\"395.947266\" xlink:href=\"#DejaVuSans-115\"/>\n    </g>\n   </g>\n  </g>\n  <g id=\"axes_2\">\n   <g id=\"patch_7\">\n    <path d=\"M 50.14375 543.718125 \nL 849.16875 543.718125 \nL 849.16875 304.918125 \nL 50.14375 304.918125 \nz\n\" style=\"fill:#ffffff;\"/>\n   </g>\n   <g id=\"matplotlib.axis_3\">\n    <g id=\"xtick_7\">\n     <g id=\"line2d_16\">\n      <g>\n       <use style=\"stroke:#000000;stroke-width:0.8;\" x=\"86.463068\" xlink:href=\"#m791870d0e0\" y=\"543.718125\"/>\n      </g>\n     </g>\n     <g id=\"text_17\">\n      <!-- 0 -->\n      <g transform=\"translate(83.281818 558.316563)scale(0.1 -0.1)\">\n       <use xlink:href=\"#DejaVuSans-48\"/>\n      </g>\n     </g>\n    </g>\n    <g id=\"xtick_8\">\n     <g id=\"line2d_17\">\n      <g>\n       <use style=\"stroke:#000000;stroke-width:0.8;\" x=\"230.301952\" xlink:href=\"#m791870d0e0\" y=\"543.718125\"/>\n      </g>\n     </g>\n     <g id=\"text_18\">\n      <!-- 20 -->\n      <g transform=\"translate(223.939452 558.316563)scale(0.1 -0.1)\">\n       <use xlink:href=\"#DejaVuSans-50\"/>\n       <use x=\"63.623047\" xlink:href=\"#DejaVuSans-48\"/>\n      </g>\n     </g>\n    </g>\n    <g id=\"xtick_9\">\n     <g id=\"line2d_18\">\n      <g>\n       <use style=\"stroke:#000000;stroke-width:0.8;\" x=\"374.140836\" xlink:href=\"#m791870d0e0\" y=\"543.718125\"/>\n      </g>\n     </g>\n     <g id=\"text_19\">\n      <!-- 40 -->\n      <g transform=\"translate(367.778336 558.316563)scale(0.1 -0.1)\">\n       <use xlink:href=\"#DejaVuSans-52\"/>\n       <use x=\"63.623047\" xlink:href=\"#DejaVuSans-48\"/>\n      </g>\n     </g>\n    </g>\n    <g id=\"xtick_10\">\n     <g id=\"line2d_19\">\n      <g>\n       <use style=\"stroke:#000000;stroke-width:0.8;\" x=\"517.97972\" xlink:href=\"#m791870d0e0\" y=\"543.718125\"/>\n      </g>\n     </g>\n     <g id=\"text_20\">\n      <!-- 60 -->\n      <g transform=\"translate(511.61722 558.316563)scale(0.1 -0.1)\">\n       <use xlink:href=\"#DejaVuSans-54\"/>\n       <use x=\"63.623047\" xlink:href=\"#DejaVuSans-48\"/>\n      </g>\n     </g>\n    </g>\n    <g id=\"xtick_11\">\n     <g id=\"line2d_20\">\n      <g>\n       <use style=\"stroke:#000000;stroke-width:0.8;\" x=\"661.818604\" xlink:href=\"#m791870d0e0\" y=\"543.718125\"/>\n      </g>\n     </g>\n     <g id=\"text_21\">\n      <!-- 80 -->\n      <g transform=\"translate(655.456104 558.316563)scale(0.1 -0.1)\">\n       <use xlink:href=\"#DejaVuSans-56\"/>\n       <use x=\"63.623047\" xlink:href=\"#DejaVuSans-48\"/>\n      </g>\n     </g>\n    </g>\n    <g id=\"xtick_12\">\n     <g id=\"line2d_21\">\n      <g>\n       <use style=\"stroke:#000000;stroke-width:0.8;\" x=\"805.657488\" xlink:href=\"#m791870d0e0\" y=\"543.718125\"/>\n      </g>\n     </g>\n     <g id=\"text_22\">\n      <!-- 100 -->\n      <g transform=\"translate(796.113738 558.316563)scale(0.1 -0.1)\">\n       <use xlink:href=\"#DejaVuSans-49\"/>\n       <use x=\"63.623047\" xlink:href=\"#DejaVuSans-48\"/>\n       <use x=\"127.246094\" xlink:href=\"#DejaVuSans-48\"/>\n      </g>\n     </g>\n    </g>\n   </g>\n   <g id=\"matplotlib.axis_4\">\n    <g id=\"ytick_9\">\n     <g id=\"line2d_22\">\n      <g>\n       <use style=\"stroke:#000000;stroke-width:0.8;\" x=\"50.14375\" xlink:href=\"#m2f4e0976a4\" y=\"543.718125\"/>\n      </g>\n     </g>\n     <g id=\"text_23\">\n      <!-- 0.65 -->\n      <g transform=\"translate(20.878125 547.517344)scale(0.1 -0.1)\">\n       <use xlink:href=\"#DejaVuSans-48\"/>\n       <use x=\"63.623047\" xlink:href=\"#DejaVuSans-46\"/>\n       <use x=\"95.410156\" xlink:href=\"#DejaVuSans-54\"/>\n       <use x=\"159.033203\" xlink:href=\"#DejaVuSans-53\"/>\n      </g>\n     </g>\n    </g>\n    <g id=\"ytick_10\">\n     <g id=\"line2d_23\">\n      <g>\n       <use style=\"stroke:#000000;stroke-width:0.8;\" x=\"50.14375\" xlink:href=\"#m2f4e0976a4\" y=\"511.154489\"/>\n      </g>\n     </g>\n     <g id=\"text_24\">\n      <!-- 0.70 -->\n      <g transform=\"translate(20.878125 514.953707)scale(0.1 -0.1)\">\n       <use xlink:href=\"#DejaVuSans-48\"/>\n       <use x=\"63.623047\" xlink:href=\"#DejaVuSans-46\"/>\n       <use x=\"95.410156\" xlink:href=\"#DejaVuSans-55\"/>\n       <use x=\"159.033203\" xlink:href=\"#DejaVuSans-48\"/>\n      </g>\n     </g>\n    </g>\n    <g id=\"ytick_11\">\n     <g id=\"line2d_24\">\n      <g>\n       <use style=\"stroke:#000000;stroke-width:0.8;\" x=\"50.14375\" xlink:href=\"#m2f4e0976a4\" y=\"478.590852\"/>\n      </g>\n     </g>\n     <g id=\"text_25\">\n      <!-- 0.75 -->\n      <g transform=\"translate(20.878125 482.390071)scale(0.1 -0.1)\">\n       <use xlink:href=\"#DejaVuSans-48\"/>\n       <use x=\"63.623047\" xlink:href=\"#DejaVuSans-46\"/>\n       <use x=\"95.410156\" xlink:href=\"#DejaVuSans-55\"/>\n       <use x=\"159.033203\" xlink:href=\"#DejaVuSans-53\"/>\n      </g>\n     </g>\n    </g>\n    <g id=\"ytick_12\">\n     <g id=\"line2d_25\">\n      <g>\n       <use style=\"stroke:#000000;stroke-width:0.8;\" x=\"50.14375\" xlink:href=\"#m2f4e0976a4\" y=\"446.027216\"/>\n      </g>\n     </g>\n     <g id=\"text_26\">\n      <!-- 0.80 -->\n      <g transform=\"translate(20.878125 449.826435)scale(0.1 -0.1)\">\n       <use xlink:href=\"#DejaVuSans-48\"/>\n       <use x=\"63.623047\" xlink:href=\"#DejaVuSans-46\"/>\n       <use x=\"95.410156\" xlink:href=\"#DejaVuSans-56\"/>\n       <use x=\"159.033203\" xlink:href=\"#DejaVuSans-48\"/>\n      </g>\n     </g>\n    </g>\n    <g id=\"ytick_13\">\n     <g id=\"line2d_26\">\n      <g>\n       <use style=\"stroke:#000000;stroke-width:0.8;\" x=\"50.14375\" xlink:href=\"#m2f4e0976a4\" y=\"413.46358\"/>\n      </g>\n     </g>\n     <g id=\"text_27\">\n      <!-- 0.85 -->\n      <g transform=\"translate(20.878125 417.262798)scale(0.1 -0.1)\">\n       <use xlink:href=\"#DejaVuSans-48\"/>\n       <use x=\"63.623047\" xlink:href=\"#DejaVuSans-46\"/>\n       <use x=\"95.410156\" xlink:href=\"#DejaVuSans-56\"/>\n       <use x=\"159.033203\" xlink:href=\"#DejaVuSans-53\"/>\n      </g>\n     </g>\n    </g>\n    <g id=\"ytick_14\">\n     <g id=\"line2d_27\">\n      <g>\n       <use style=\"stroke:#000000;stroke-width:0.8;\" x=\"50.14375\" xlink:href=\"#m2f4e0976a4\" y=\"380.899943\"/>\n      </g>\n     </g>\n     <g id=\"text_28\">\n      <!-- 0.90 -->\n      <g transform=\"translate(20.878125 384.699162)scale(0.1 -0.1)\">\n       <defs>\n        <path d=\"M 10.984375 1.515625 \nL 10.984375 10.5 \nQ 14.703125 8.734375 18.5 7.8125 \nQ 22.3125 6.890625 25.984375 6.890625 \nQ 35.75 6.890625 40.890625 13.453125 \nQ 46.046875 20.015625 46.78125 33.40625 \nQ 43.953125 29.203125 39.59375 26.953125 \nQ 35.25 24.703125 29.984375 24.703125 \nQ 19.046875 24.703125 12.671875 31.3125 \nQ 6.296875 37.9375 6.296875 49.421875 \nQ 6.296875 60.640625 12.9375 67.421875 \nQ 19.578125 74.21875 30.609375 74.21875 \nQ 43.265625 74.21875 49.921875 64.515625 \nQ 56.59375 54.828125 56.59375 36.375 \nQ 56.59375 19.140625 48.40625 8.859375 \nQ 40.234375 -1.421875 26.421875 -1.421875 \nQ 22.703125 -1.421875 18.890625 -0.6875 \nQ 15.09375 0.046875 10.984375 1.515625 \nz\nM 30.609375 32.421875 \nQ 37.25 32.421875 41.125 36.953125 \nQ 45.015625 41.5 45.015625 49.421875 \nQ 45.015625 57.28125 41.125 61.84375 \nQ 37.25 66.40625 30.609375 66.40625 \nQ 23.96875 66.40625 20.09375 61.84375 \nQ 16.21875 57.28125 16.21875 49.421875 \nQ 16.21875 41.5 20.09375 36.953125 \nQ 23.96875 32.421875 30.609375 32.421875 \nz\n\" id=\"DejaVuSans-57\"/>\n       </defs>\n       <use xlink:href=\"#DejaVuSans-48\"/>\n       <use x=\"63.623047\" xlink:href=\"#DejaVuSans-46\"/>\n       <use x=\"95.410156\" xlink:href=\"#DejaVuSans-57\"/>\n       <use x=\"159.033203\" xlink:href=\"#DejaVuSans-48\"/>\n      </g>\n     </g>\n    </g>\n    <g id=\"ytick_15\">\n     <g id=\"line2d_28\">\n      <g>\n       <use style=\"stroke:#000000;stroke-width:0.8;\" x=\"50.14375\" xlink:href=\"#m2f4e0976a4\" y=\"348.336307\"/>\n      </g>\n     </g>\n     <g id=\"text_29\">\n      <!-- 0.95 -->\n      <g transform=\"translate(20.878125 352.135526)scale(0.1 -0.1)\">\n       <use xlink:href=\"#DejaVuSans-48\"/>\n       <use x=\"63.623047\" xlink:href=\"#DejaVuSans-46\"/>\n       <use x=\"95.410156\" xlink:href=\"#DejaVuSans-57\"/>\n       <use x=\"159.033203\" xlink:href=\"#DejaVuSans-53\"/>\n      </g>\n     </g>\n    </g>\n    <g id=\"ytick_16\">\n     <g id=\"line2d_29\">\n      <g>\n       <use style=\"stroke:#000000;stroke-width:0.8;\" x=\"50.14375\" xlink:href=\"#m2f4e0976a4\" y=\"315.77267\"/>\n      </g>\n     </g>\n     <g id=\"text_30\">\n      <!-- 1.00 -->\n      <g transform=\"translate(20.878125 319.571889)scale(0.1 -0.1)\">\n       <use xlink:href=\"#DejaVuSans-49\"/>\n       <use x=\"63.623047\" xlink:href=\"#DejaVuSans-46\"/>\n       <use x=\"95.410156\" xlink:href=\"#DejaVuSans-48\"/>\n       <use x=\"159.033203\" xlink:href=\"#DejaVuSans-48\"/>\n      </g>\n     </g>\n    </g>\n    <g id=\"text_31\">\n     <!-- Classification Accuracy -->\n     <g transform=\"translate(14.798438 481.818125)rotate(-90)scale(0.1 -0.1)\">\n      <defs>\n       <path d=\"M 64.40625 67.28125 \nL 64.40625 56.890625 \nQ 59.421875 61.53125 53.78125 63.8125 \nQ 48.140625 66.109375 41.796875 66.109375 \nQ 29.296875 66.109375 22.65625 58.46875 \nQ 16.015625 50.828125 16.015625 36.375 \nQ 16.015625 21.96875 22.65625 14.328125 \nQ 29.296875 6.6875 41.796875 6.6875 \nQ 48.140625 6.6875 53.78125 8.984375 \nQ 59.421875 11.28125 64.40625 15.921875 \nL 64.40625 5.609375 \nQ 59.234375 2.09375 53.4375 0.328125 \nQ 47.65625 -1.421875 41.21875 -1.421875 \nQ 24.65625 -1.421875 15.125 8.703125 \nQ 5.609375 18.84375 5.609375 36.375 \nQ 5.609375 53.953125 15.125 64.078125 \nQ 24.65625 74.21875 41.21875 74.21875 \nQ 47.75 74.21875 53.53125 72.484375 \nQ 59.328125 70.75 64.40625 67.28125 \nz\n\" id=\"DejaVuSans-67\"/>\n       <path d=\"M 9.421875 75.984375 \nL 18.40625 75.984375 \nL 18.40625 0 \nL 9.421875 0 \nz\n\" id=\"DejaVuSans-108\"/>\n       <path d=\"M 34.28125 27.484375 \nQ 23.390625 27.484375 19.1875 25 \nQ 14.984375 22.515625 14.984375 16.5 \nQ 14.984375 11.71875 18.140625 8.90625 \nQ 21.296875 6.109375 26.703125 6.109375 \nQ 34.1875 6.109375 38.703125 11.40625 \nQ 43.21875 16.703125 43.21875 25.484375 \nL 43.21875 27.484375 \nz\nM 52.203125 31.203125 \nL 52.203125 0 \nL 43.21875 0 \nL 43.21875 8.296875 \nQ 40.140625 3.328125 35.546875 0.953125 \nQ 30.953125 -1.421875 24.3125 -1.421875 \nQ 15.921875 -1.421875 10.953125 3.296875 \nQ 6 8.015625 6 15.921875 \nQ 6 25.140625 12.171875 29.828125 \nQ 18.359375 34.515625 30.609375 34.515625 \nL 43.21875 34.515625 \nL 43.21875 35.40625 \nQ 43.21875 41.609375 39.140625 45 \nQ 35.0625 48.390625 27.6875 48.390625 \nQ 23 48.390625 18.546875 47.265625 \nQ 14.109375 46.140625 10.015625 43.890625 \nL 10.015625 52.203125 \nQ 14.9375 54.109375 19.578125 55.046875 \nQ 24.21875 56 28.609375 56 \nQ 40.484375 56 46.34375 49.84375 \nQ 52.203125 43.703125 52.203125 31.203125 \nz\n\" id=\"DejaVuSans-97\"/>\n       <path d=\"M 9.421875 54.6875 \nL 18.40625 54.6875 \nL 18.40625 0 \nL 9.421875 0 \nz\nM 9.421875 75.984375 \nL 18.40625 75.984375 \nL 18.40625 64.59375 \nL 9.421875 64.59375 \nz\n\" id=\"DejaVuSans-105\"/>\n       <path d=\"M 37.109375 75.984375 \nL 37.109375 68.5 \nL 28.515625 68.5 \nQ 23.6875 68.5 21.796875 66.546875 \nQ 19.921875 64.59375 19.921875 59.515625 \nL 19.921875 54.6875 \nL 34.71875 54.6875 \nL 34.71875 47.703125 \nL 19.921875 47.703125 \nL 19.921875 0 \nL 10.890625 0 \nL 10.890625 47.703125 \nL 2.296875 47.703125 \nL 2.296875 54.6875 \nL 10.890625 54.6875 \nL 10.890625 58.5 \nQ 10.890625 67.625 15.140625 71.796875 \nQ 19.390625 75.984375 28.609375 75.984375 \nz\n\" id=\"DejaVuSans-102\"/>\n       <path d=\"M 48.78125 52.59375 \nL 48.78125 44.1875 \nQ 44.96875 46.296875 41.140625 47.34375 \nQ 37.3125 48.390625 33.40625 48.390625 \nQ 24.65625 48.390625 19.8125 42.84375 \nQ 14.984375 37.3125 14.984375 27.296875 \nQ 14.984375 17.28125 19.8125 11.734375 \nQ 24.65625 6.203125 33.40625 6.203125 \nQ 37.3125 6.203125 41.140625 7.25 \nQ 44.96875 8.296875 48.78125 10.40625 \nL 48.78125 2.09375 \nQ 45.015625 0.34375 40.984375 -0.53125 \nQ 36.96875 -1.421875 32.421875 -1.421875 \nQ 20.0625 -1.421875 12.78125 6.34375 \nQ 5.515625 14.109375 5.515625 27.296875 \nQ 5.515625 40.671875 12.859375 48.328125 \nQ 20.21875 56 33.015625 56 \nQ 37.15625 56 41.109375 55.140625 \nQ 45.0625 54.296875 48.78125 52.59375 \nz\n\" id=\"DejaVuSans-99\"/>\n       <path d=\"M 54.890625 33.015625 \nL 54.890625 0 \nL 45.90625 0 \nL 45.90625 32.71875 \nQ 45.90625 40.484375 42.875 44.328125 \nQ 39.84375 48.1875 33.796875 48.1875 \nQ 26.515625 48.1875 22.3125 43.546875 \nQ 18.109375 38.921875 18.109375 30.90625 \nL 18.109375 0 \nL 9.078125 0 \nL 9.078125 54.6875 \nL 18.109375 54.6875 \nL 18.109375 46.1875 \nQ 21.34375 51.125 25.703125 53.5625 \nQ 30.078125 56 35.796875 56 \nQ 45.21875 56 50.046875 50.171875 \nQ 54.890625 44.34375 54.890625 33.015625 \nz\n\" id=\"DejaVuSans-110\"/>\n       <path d=\"M 34.1875 63.1875 \nL 20.796875 26.90625 \nL 47.609375 26.90625 \nz\nM 28.609375 72.90625 \nL 39.796875 72.90625 \nL 67.578125 0 \nL 57.328125 0 \nL 50.6875 18.703125 \nL 17.828125 18.703125 \nL 11.1875 0 \nL 0.78125 0 \nz\n\" id=\"DejaVuSans-65\"/>\n       <path d=\"M 8.5 21.578125 \nL 8.5 54.6875 \nL 17.484375 54.6875 \nL 17.484375 21.921875 \nQ 17.484375 14.15625 20.5 10.265625 \nQ 23.53125 6.390625 29.59375 6.390625 \nQ 36.859375 6.390625 41.078125 11.03125 \nQ 45.3125 15.671875 45.3125 23.6875 \nL 45.3125 54.6875 \nL 54.296875 54.6875 \nL 54.296875 0 \nL 45.3125 0 \nL 45.3125 8.40625 \nQ 42.046875 3.421875 37.71875 1 \nQ 33.40625 -1.421875 27.6875 -1.421875 \nQ 18.265625 -1.421875 13.375 4.4375 \nQ 8.5 10.296875 8.5 21.578125 \nz\nM 31.109375 56 \nz\n\" id=\"DejaVuSans-117\"/>\n       <path d=\"M 41.109375 46.296875 \nQ 39.59375 47.171875 37.8125 47.578125 \nQ 36.03125 48 33.890625 48 \nQ 26.265625 48 22.1875 43.046875 \nQ 18.109375 38.09375 18.109375 28.8125 \nL 18.109375 0 \nL 9.078125 0 \nL 9.078125 54.6875 \nL 18.109375 54.6875 \nL 18.109375 46.1875 \nQ 20.953125 51.171875 25.484375 53.578125 \nQ 30.03125 56 36.53125 56 \nQ 37.453125 56 38.578125 55.875 \nQ 39.703125 55.765625 41.0625 55.515625 \nz\n\" id=\"DejaVuSans-114\"/>\n       <path d=\"M 32.171875 -5.078125 \nQ 28.375 -14.84375 24.75 -17.8125 \nQ 21.140625 -20.796875 15.09375 -20.796875 \nL 7.90625 -20.796875 \nL 7.90625 -13.28125 \nL 13.1875 -13.28125 \nQ 16.890625 -13.28125 18.9375 -11.515625 \nQ 21 -9.765625 23.484375 -3.21875 \nL 25.09375 0.875 \nL 2.984375 54.6875 \nL 12.5 54.6875 \nL 29.59375 11.921875 \nL 46.6875 54.6875 \nL 56.203125 54.6875 \nz\n\" id=\"DejaVuSans-121\"/>\n      </defs>\n      <use xlink:href=\"#DejaVuSans-67\"/>\n      <use x=\"69.824219\" xlink:href=\"#DejaVuSans-108\"/>\n      <use x=\"97.607422\" xlink:href=\"#DejaVuSans-97\"/>\n      <use x=\"158.886719\" xlink:href=\"#DejaVuSans-115\"/>\n      <use x=\"210.986328\" xlink:href=\"#DejaVuSans-115\"/>\n      <use x=\"263.085938\" xlink:href=\"#DejaVuSans-105\"/>\n      <use x=\"290.869141\" xlink:href=\"#DejaVuSans-102\"/>\n      <use x=\"326.074219\" xlink:href=\"#DejaVuSans-105\"/>\n      <use x=\"353.857422\" xlink:href=\"#DejaVuSans-99\"/>\n      <use x=\"408.837891\" xlink:href=\"#DejaVuSans-97\"/>\n      <use x=\"470.117188\" xlink:href=\"#DejaVuSans-116\"/>\n      <use x=\"509.326172\" xlink:href=\"#DejaVuSans-105\"/>\n      <use x=\"537.109375\" xlink:href=\"#DejaVuSans-111\"/>\n      <use x=\"598.291016\" xlink:href=\"#DejaVuSans-110\"/>\n      <use x=\"661.669922\" xlink:href=\"#DejaVuSans-32\"/>\n      <use x=\"693.457031\" xlink:href=\"#DejaVuSans-65\"/>\n      <use x=\"760.115234\" xlink:href=\"#DejaVuSans-99\"/>\n      <use x=\"815.095703\" xlink:href=\"#DejaVuSans-99\"/>\n      <use x=\"870.076172\" xlink:href=\"#DejaVuSans-117\"/>\n      <use x=\"933.455078\" xlink:href=\"#DejaVuSans-114\"/>\n      <use x=\"974.568359\" xlink:href=\"#DejaVuSans-97\"/>\n      <use x=\"1035.847656\" xlink:href=\"#DejaVuSans-99\"/>\n      <use x=\"1090.828125\" xlink:href=\"#DejaVuSans-121\"/>\n     </g>\n    </g>\n   </g>\n   <g id=\"line2d_30\">\n    <path clip-path=\"url(#p5923a78350)\" d=\"M 86.463068 532.86358 \nL 93.655012 424.318125 \nL 100.846957 424.318125 \nL 108.038901 460.499943 \nL 115.230845 424.318125 \nL 122.422789 460.499943 \nL 129.614733 388.136307 \nL 136.806678 424.318125 \nL 143.998622 424.318125 \nL 151.190566 424.318125 \nL 158.38251 424.318125 \nL 165.574454 424.318125 \nL 172.766399 460.499943 \nL 179.958343 351.954489 \nL 187.150287 388.136307 \nL 194.342231 424.318125 \nL 201.534175 424.318125 \nL 208.726119 388.136307 \nL 215.918064 388.136307 \nL 223.110008 388.136307 \nL 230.301952 388.136307 \nL 237.493896 388.136307 \nL 244.68584 388.136307 \nL 251.877785 351.954489 \nL 259.069729 388.136307 \nL 266.261673 424.318125 \nL 273.453617 388.136307 \nL 280.645561 388.136307 \nL 287.837506 388.136307 \nL 295.02945 351.954489 \nL 302.221394 315.77267 \nL 309.413338 351.954489 \nL 316.605282 388.136307 \nL 323.797227 351.954489 \nL 330.989171 388.136307 \nL 338.181115 351.954489 \nL 345.373059 351.954489 \nL 352.565003 388.136307 \nL 359.756948 388.136307 \nL 366.948892 388.136307 \nL 374.140836 351.954489 \nL 381.33278 424.318125 \nL 388.524724 351.954489 \nL 395.716669 351.954489 \nL 402.908613 388.136307 \nL 410.100557 388.136307 \nL 417.292501 351.954489 \nL 424.484445 460.499943 \nL 431.67639 424.318125 \nL 438.868334 315.77267 \nL 446.060278 496.681761 \nL 453.252222 388.136307 \nL 460.444166 460.499943 \nL 467.63611 424.318125 \nL 474.828055 351.954489 \nL 482.019999 351.954489 \nL 489.211943 315.77267 \nL 496.403887 388.136307 \nL 503.595831 351.954489 \nL 510.787776 388.136307 \nL 517.97972 351.954489 \nL 525.171664 351.954489 \nL 532.363608 388.136307 \nL 539.555552 351.954489 \nL 546.747497 351.954489 \nL 553.939441 351.954489 \nL 561.131385 315.77267 \nL 568.323329 315.77267 \nL 575.515273 315.77267 \nL 582.707218 388.136307 \nL 589.899162 315.77267 \nL 597.091106 351.954489 \nL 604.28305 388.136307 \nL 611.474994 351.954489 \nL 618.666939 351.954489 \nL 625.858883 388.136307 \nL 633.050827 351.954489 \nL 640.242771 351.954489 \nL 647.434715 351.954489 \nL 654.62666 388.136307 \nL 661.818604 351.954489 \nL 669.010548 424.318125 \nL 676.202492 388.136307 \nL 683.394436 388.136307 \nL 690.586381 388.136307 \nL 697.778325 388.136307 \nL 704.970269 388.136307 \nL 712.162213 351.954489 \nL 719.354157 388.136307 \nL 726.546101 351.954489 \nL 733.738046 388.136307 \nL 740.92999 388.136307 \nL 748.121934 315.77267 \nL 755.313878 460.499943 \nL 762.505822 424.318125 \nL 769.697767 496.681761 \nL 776.889711 388.136307 \nL 784.081655 424.318125 \nL 791.273599 388.136307 \nL 798.465543 388.136307 \nL 805.657488 351.954489 \nL 812.849432 351.954489 \n\" style=\"fill:none;stroke:#1f77b4;stroke-linecap:square;stroke-width:1.5;\"/>\n   </g>\n   <g id=\"patch_8\">\n    <path d=\"M 50.14375 543.718125 \nL 50.14375 304.918125 \n\" style=\"fill:none;stroke:#000000;stroke-linecap:square;stroke-linejoin:miter;stroke-width:0.8;\"/>\n   </g>\n   <g id=\"patch_9\">\n    <path d=\"M 849.16875 543.718125 \nL 849.16875 304.918125 \n\" style=\"fill:none;stroke:#000000;stroke-linecap:square;stroke-linejoin:miter;stroke-width:0.8;\"/>\n   </g>\n   <g id=\"patch_10\">\n    <path d=\"M 50.14375 543.718125 \nL 849.16875 543.718125 \n\" style=\"fill:none;stroke:#000000;stroke-linecap:square;stroke-linejoin:miter;stroke-width:0.8;\"/>\n   </g>\n   <g id=\"patch_11\">\n    <path d=\"M 50.14375 304.918125 \nL 849.16875 304.918125 \n\" style=\"fill:none;stroke:#000000;stroke-linecap:square;stroke-linejoin:miter;stroke-width:0.8;\"/>\n   </g>\n   <g id=\"text_32\">\n    <!-- Test Accuracy -->\n    <g transform=\"translate(408.54125 298.918125)scale(0.12 -0.12)\">\n     <use xlink:href=\"#DejaVuSans-84\"/>\n     <use x=\"44.083984\" xlink:href=\"#DejaVuSans-101\"/>\n     <use x=\"105.607422\" xlink:href=\"#DejaVuSans-115\"/>\n     <use x=\"157.707031\" xlink:href=\"#DejaVuSans-116\"/>\n     <use x=\"196.916016\" xlink:href=\"#DejaVuSans-32\"/>\n     <use x=\"228.703125\" xlink:href=\"#DejaVuSans-65\"/>\n     <use x=\"295.361328\" xlink:href=\"#DejaVuSans-99\"/>\n     <use x=\"350.341797\" xlink:href=\"#DejaVuSans-99\"/>\n     <use x=\"405.322266\" xlink:href=\"#DejaVuSans-117\"/>\n     <use x=\"468.701172\" xlink:href=\"#DejaVuSans-114\"/>\n     <use x=\"509.814453\" xlink:href=\"#DejaVuSans-97\"/>\n     <use x=\"571.09375\" xlink:href=\"#DejaVuSans-99\"/>\n     <use x=\"626.074219\" xlink:href=\"#DejaVuSans-121\"/>\n    </g>\n   </g>\n  </g>\n </g>\n <defs>\n  <clipPath id=\"pc434a79677\">\n   <rect height=\"238.8\" width=\"799.025\" x=\"50.14375\" y=\"22.318125\"/>\n  </clipPath>\n  <clipPath id=\"p5923a78350\">\n   <rect height=\"238.8\" width=\"799.025\" x=\"50.14375\" y=\"304.918125\"/>\n  </clipPath>\n </defs>\n</svg>\n",
      "image/png": "[encoded data removed]"
     },
     "metadata": {
      "needs_background": "light"
     }
    }
   ],
   "source": [
    "fig, ax = plt.subplots(2, 1, figsize=(12,8))\n",
    "ax[0].plot(val_loss_list)\n",
    "ax[0].set_ylabel('Loss')\n",
    "ax[0].set_title('Test Loss')\n",
    "\n",
    "ax[1].plot(val_corrects_list)\n",
    "ax[1].set_ylabel('Classification Accuracy')\n",
    "ax[1].set_title('Test Accuracy')\n",
    "\n",
    "plt.tight_layout()\n",
    "plt.show()"
   ]
  },
  {
   "cell_type": "code",
   "execution_count": 121,
   "metadata": {},
   "outputs": [
    {
     "output_type": "stream",
     "name": "stdout",
     "text": [
      "train: 0.9652846876727472\n"
     ]
    },
    {
     "output_type": "execute_result",
     "data": {
      "text/plain": [
       "0.0006674339176299781"
      ]
     },
     "metadata": {},
     "execution_count": 121
    }
   ],
   "source": [
    "print(\"train:\",np.array(train_accuracy).mean())\n",
    "# print(\"test:\",np.array(val_corrects_list).mean())\n",
    "best_acc"
   ]
  },
  {
   "cell_type": "code",
   "execution_count": 122,
   "metadata": {},
   "outputs": [
    {
     "output_type": "execute_result",
     "data": {
      "text/plain": [
       "Conv2d_net(\n",
       "  (conv1): Conv2d(1, 6, kernel_size=(5, 5), stride=(1, 1), padding=(2, 2))\n",
       "  (pool): MaxPool2d(kernel_size=2, stride=2, padding=0, dilation=1, ceil_mode=False)\n",
       "  (conv2): Conv2d(6, 10, kernel_size=(2, 2), stride=(1, 1), padding=(1, 1))\n",
       "  (fc1): Linear(in_features=360, out_features=84, bias=True)\n",
       "  (fc2): Linear(in_features=84, out_features=36, bias=True)\n",
       "  (fc3): Linear(in_features=36, out_features=3, bias=True)\n",
       "  (drop_3): Dropout(p=0.3, inplace=False)\n",
       "  (conv1_bn): BatchNorm2d(6, eps=1e-05, momentum=0.1, affine=True, track_running_stats=True)\n",
       "  (conv2_bn): BatchNorm2d(10, eps=1e-05, momentum=0.1, affine=True, track_running_stats=True)\n",
       ")"
      ]
     },
     "metadata": {},
     "execution_count": 122
    }
   ],
   "source": [
    "val_model = Conv2d_net()\n",
    "val_model.load_state_dict(torch.load(PATH))\n",
    "val_model.eval()"
   ]
  },
  {
   "cell_type": "code",
   "execution_count": 123,
   "metadata": {},
   "outputs": [
    {
     "output_type": "stream",
     "name": "stdout",
     "text": [
      "Accuracy of the test dataset is: 100 %\n"
     ]
    },
    {
     "output_type": "error",
     "ename": "ZeroDivisionError",
     "evalue": "float division by zero",
     "traceback": [
      "\u001b[0;31m---------------------------------------------------------------------------\u001b[0m",
      "\u001b[0;31mZeroDivisionError\u001b[0m                         Traceback (most recent call last)",
      "\u001b[0;32m<ipython-input-123-d3ad4ee2bdd4>\u001b[0m in \u001b[0;36m<module>\u001b[0;34m\u001b[0m\n\u001b[1;32m     21\u001b[0m \u001b[0;34m\u001b[0m\u001b[0m\n\u001b[1;32m     22\u001b[0m \u001b[0mprint\u001b[0m\u001b[0;34m(\u001b[0m\u001b[0;34m'Accuracy of the test dataset is: %d %%'\u001b[0m \u001b[0;34m%\u001b[0m \u001b[0;34m(\u001b[0m\u001b[0;36m100\u001b[0m \u001b[0;34m*\u001b[0m \u001b[0mcorrect\u001b[0m \u001b[0;34m/\u001b[0m \u001b[0mtotal\u001b[0m\u001b[0;34m)\u001b[0m\u001b[0;34m)\u001b[0m\u001b[0;34m\u001b[0m\u001b[0;34m\u001b[0m\u001b[0m\n\u001b[0;32m---> 23\u001b[0;31m \u001b[0mprint\u001b[0m\u001b[0;34m(\u001b[0m\u001b[0;34m\"Loss of validation set: {:.5f}\"\u001b[0m\u001b[0;34m.\u001b[0m\u001b[0mformat\u001b[0m\u001b[0;34m(\u001b[0m\u001b[0;34m(\u001b[0m\u001b[0mval_loss\u001b[0m \u001b[0;34m/\u001b[0m \u001b[0mtest_size\u001b[0m\u001b[0;34m)\u001b[0m\u001b[0;34m)\u001b[0m\u001b[0;34m)\u001b[0m\u001b[0;34m\u001b[0m\u001b[0;34m\u001b[0m\u001b[0m\n\u001b[0m\u001b[1;32m     24\u001b[0m \u001b[0macc\u001b[0m \u001b[0;34m=\u001b[0m \u001b[0;34m(\u001b[0m\u001b[0;36m100\u001b[0m \u001b[0;34m*\u001b[0m \u001b[0mcorrect\u001b[0m \u001b[0;34m/\u001b[0m \u001b[0mtotal\u001b[0m\u001b[0;34m)\u001b[0m\u001b[0;34m\u001b[0m\u001b[0;34m\u001b[0m\u001b[0m\n",
      "\u001b[0;31mZeroDivisionError\u001b[0m: float division by zero"
     ]
    }
   ],
   "source": [
    "correct = 0\n",
    "total = 0\n",
    "test_loss = 0\n",
    "outputs_list = []\n",
    "y_list = []\n",
    "\n",
    "with torch.no_grad():\n",
    "    val_loss = 0\n",
    "\n",
    "    for i, data in enumerate(task2_test_dataloader):\n",
    "        x, y = data\n",
    "        x, y = x.float(), y.long()\n",
    "        outputs = val_model(x)\n",
    "        loss = criterion(outputs, y)\n",
    "        _, predicted = torch.max(outputs.data, 1)\n",
    "        outputs_list.append(predicted[:])\n",
    "        total += y.size(0)\n",
    "        correct += (predicted == y).double().sum().item()\n",
    "        val_loss += loss.item()\n",
    "        y_list.append(y)\n",
    "\n",
    "print('Accuracy of the test dataset is: %d %%' % (100 * correct / total))\n",
    "print(\"Loss of validation set: {:.5f}\".format((val_loss / test_size)))\n",
    "acc = (100 * correct / total)"
   ]
  },
  {
   "cell_type": "code",
   "execution_count": 59,
   "metadata": {},
   "outputs": [],
   "source": [
    "yields = torch.Tensor()\n",
    "torch.cat(outputs_list, out=yields)\n",
    "yields = yields.numpy()"
   ]
  },
  {
   "cell_type": "code",
   "execution_count": 60,
   "metadata": {},
   "outputs": [],
   "source": [
    "targets = torch.Tensor()\n",
    "torch.cat(y_list, out=targets)\n",
    "targets = targets.numpy()"
   ]
  },
  {
   "cell_type": "code",
   "execution_count": 61,
   "metadata": {},
   "outputs": [
    {
     "output_type": "stream",
     "name": "stdout",
     "text": [
      "[0. 2. 2. 0. 0. 1. 0. 1. 1. 0. 0. 2. 1. 0. 0. 2. 2. 1.]\n[0. 2. 2. 0. 0. 1. 0. 2. 1. 0. 0. 2. 1. 0. 0. 2. 2. 1.]\n[ True  True  True  True  True  True  True False  True  True  True  True\n  True  True  True  True  True  True]\n"
     ]
    }
   ],
   "source": [
    "print(yields)\n",
    "print(targets)\n",
    "print((yields == targets))"
   ]
  },
  {
   "cell_type": "code",
   "execution_count": 63,
   "metadata": {},
   "outputs": [],
   "source": [
    "# from tempfile import TemporaryFile\n",
    "# answer = TemporaryFile()\n",
    "np.save('label_pred_task2.npy', yields)"
   ]
  },
  {
   "cell_type": "code",
   "execution_count": 65,
   "metadata": {},
   "outputs": [],
   "source": [
    "answer = np.load('./label_pred_task2.npy')"
   ]
  },
  {
   "cell_type": "code",
   "execution_count": 66,
   "metadata": {},
   "outputs": [
    {
     "output_type": "execute_result",
     "data": {
      "text/plain": [
       "array([0., 2., 2., 0., 0., 1., 0., 1., 1., 0., 0., 2., 1., 0., 0., 2., 2.,\n",
       "       1.], dtype=float32)"
      ]
     },
     "metadata": {},
     "execution_count": 66
    }
   ],
   "source": [
    "answer"
   ]
  },
  {
   "source": [
    "---"
   ],
   "cell_type": "markdown",
   "metadata": {}
  },
  {
   "cell_type": "code",
   "execution_count": 39,
   "metadata": {},
   "outputs": [],
   "source": [
    "data_test_task2 = np.load('./data_test_task2.npy')\n",
    "\n",
    "tensor_x = torch.Tensor(data_test_task2)\n",
    "\n",
    "tensor_x = tensor_x.unsqueeze(1)\n",
    "\n",
    "task2_dataset = TensorDataset(tensor_x)\n",
    "task2_dataloader = DataLoader(tensor_x, batch_size=6, shuffle=False, num_workers=2)\n"
   ]
  },
  {
   "cell_type": "code",
   "execution_count": 48,
   "metadata": {},
   "outputs": [
    {
     "output_type": "execute_result",
     "data": {
      "text/plain": [
       "array([0., 2., 2., 0., 0., 1., 0., 1., 1., 0., 0., 2., 1., 0., 0., 2., 2.,\n",
       "       1.], dtype=float32)"
      ]
     },
     "metadata": {},
     "execution_count": 48
    }
   ],
   "source": [
    "data_test_task2 = np.load('./label_pred_task2.npy')\n",
    "data_test_task2"
   ]
  },
  {
   "source": [
    "outputs_list = []\n",
    "total = 0\n",
    "with torch.no_grad():\n",
    "    # for data in task2_dataloader:\n",
    "    tensor_x=tensor_x.float()\n",
    "    tensor_x.shape\n",
    "    outputs = val_model(tensor_x)\n",
    "    _, predicted = torch.max(outputs.data, 1)\n",
    "    outputs_list.append(predicted[:])\n",
    "    total += tensor_x.size(0)"
   ],
   "cell_type": "code",
   "metadata": {},
   "execution_count": 53,
   "outputs": []
  },
  {
   "cell_type": "code",
   "execution_count": 58,
   "metadata": {},
   "outputs": [
    {
     "output_type": "execute_result",
     "data": {
      "text/plain": [
       "120"
      ]
     },
     "metadata": {},
     "execution_count": 58
    }
   ],
   "source": [
    "total"
   ]
  },
  {
   "cell_type": "code",
   "execution_count": 59,
   "metadata": {},
   "outputs": [
    {
     "output_type": "execute_result",
     "data": {
      "text/plain": [
       "[tensor([0, 0, 0, 0, 0, 0, 0, 0, 0, 0, 0, 0, 0, 0, 0, 0, 0, 0, 0, 0, 0, 0, 0, 0,\n",
       "         0, 0, 0, 0, 0, 0, 0, 0, 0, 0, 0, 0, 0, 0, 0, 0, 0, 0, 0, 0, 0, 0, 0, 0,\n",
       "         0, 0, 0, 0, 0, 0, 0, 0, 0, 0, 0, 0, 0, 0, 0, 0, 0, 0, 0, 0, 0, 0, 0, 0,\n",
       "         0, 0, 0, 0, 0, 0, 0, 0, 0, 0, 0, 0, 0, 0, 0, 0, 0, 0, 0, 0, 0, 0, 0, 0,\n",
       "         0, 0, 0, 0, 0, 0, 0, 0, 0, 0, 0, 0, 0, 0, 0, 0, 0, 0, 0, 0, 0, 0, 0, 0])]"
      ]
     },
     "metadata": {},
     "execution_count": 59
    }
   ],
   "source": [
    "outputs_list"
   ]
  },
  {
   "cell_type": "code",
   "execution_count": 56,
   "metadata": {},
   "outputs": [],
   "source": [
    "yields = torch.Tensor()\n",
    "torch.cat(outputs_list, out=yields)\n",
    "yields = yields.numpy()"
   ]
  },
  {
   "cell_type": "code",
   "execution_count": 57,
   "metadata": {},
   "outputs": [
    {
     "output_type": "execute_result",
     "data": {
      "text/plain": [
       "array([0., 0., 0., 0., 0., 0., 0., 0., 0., 0., 0., 0., 0., 0., 0., 0., 0.,\n",
       "       0., 0., 0., 0., 0., 0., 0., 0., 0., 0., 0., 0., 0., 0., 0., 0., 0.,\n",
       "       0., 0., 0., 0., 0., 0., 0., 0., 0., 0., 0., 0., 0., 0., 0., 0., 0.,\n",
       "       0., 0., 0., 0., 0., 0., 0., 0., 0., 0., 0., 0., 0., 0., 0., 0., 0.,\n",
       "       0., 0., 0., 0., 0., 0., 0., 0., 0., 0., 0., 0., 0., 0., 0., 0., 0.,\n",
       "       0., 0., 0., 0., 0., 0., 0., 0., 0., 0., 0., 0., 0., 0., 0., 0., 0.,\n",
       "       0., 0., 0., 0., 0., 0., 0., 0., 0., 0., 0., 0., 0., 0., 0., 0., 0.,\n",
       "       0.], dtype=float32)"
      ]
     },
     "metadata": {},
     "execution_count": 57
    }
   ],
   "source": [
    "yields"
   ]
  },
  {
   "cell_type": "code",
   "execution_count": null,
   "metadata": {},
   "outputs": [],
   "source": []
  }
 ]
}